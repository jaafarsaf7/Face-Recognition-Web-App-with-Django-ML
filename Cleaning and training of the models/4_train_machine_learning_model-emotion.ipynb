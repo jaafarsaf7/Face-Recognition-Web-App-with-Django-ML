{
 "cells": [
  {
   "cell_type": "code",
   "execution_count": 1,
   "metadata": {},
   "outputs": [],
   "source": [
    "import numpy as np\n",
    "import pandas as pd\n",
    "import pickle"
   ]
  },
  {
   "cell_type": "markdown",
   "metadata": {},
   "source": [
    "# 1. Data\n",
    "- Load data from pickle file\n",
    "- split the data into independent and dependent\n",
    "- split to train and test set"
   ]
  },
  {
   "cell_type": "code",
   "execution_count": 2,
   "metadata": {},
   "outputs": [],
   "source": [
    "data = pickle.load(open('data_face_features_emotion.pickle',mode='rb'))"
   ]
  },
  {
   "cell_type": "code",
   "execution_count": 3,
   "metadata": {},
   "outputs": [],
   "source": [
    "X = np.array(data['data']) # indendepent variable\n",
    "y = np.array(data['label']) # dependent variable"
   ]
  },
  {
   "cell_type": "code",
   "execution_count": 4,
   "metadata": {},
   "outputs": [
    {
     "data": {
      "text/plain": [
       "((1413, 1, 128), (1413,))"
      ]
     },
     "execution_count": 4,
     "metadata": {},
     "output_type": "execute_result"
    }
   ],
   "source": [
    "X.shape , y.shape"
   ]
  },
  {
   "cell_type": "code",
   "execution_count": 5,
   "metadata": {},
   "outputs": [
    {
     "data": {
      "text/plain": [
       "(1413, 128)"
      ]
     },
     "execution_count": 5,
     "metadata": {},
     "output_type": "execute_result"
    }
   ],
   "source": [
    "X = X.reshape(-1,128)\n",
    "X.shape"
   ]
  },
  {
   "cell_type": "code",
   "execution_count": 6,
   "metadata": {},
   "outputs": [],
   "source": [
    "# split the data into train and test\n",
    "from sklearn.model_selection import train_test_split"
   ]
  },
  {
   "cell_type": "code",
   "execution_count": 7,
   "metadata": {},
   "outputs": [],
   "source": [
    "x_train,x_test,y_train,y_test = train_test_split(X,y,train_size=0.8,random_state=0)"
   ]
  },
  {
   "cell_type": "code",
   "execution_count": 8,
   "metadata": {},
   "outputs": [
    {
     "data": {
      "text/plain": [
       "((1130, 128), (283, 128), (1130,), (283,))"
      ]
     },
     "execution_count": 8,
     "metadata": {},
     "output_type": "execute_result"
    }
   ],
   "source": [
    "x_train.shape, x_test.shape, y_train.shape, y_test.shape"
   ]
  },
  {
   "cell_type": "markdown",
   "metadata": {},
   "source": [
    "# 2. Train Machine Learning"
   ]
  },
  {
   "cell_type": "code",
   "execution_count": 9,
   "metadata": {},
   "outputs": [],
   "source": [
    "from sklearn.linear_model import LogisticRegression\n",
    "from sklearn.svm import SVC\n",
    "from sklearn.ensemble import RandomForestClassifier\n",
    "from sklearn.ensemble import VotingClassifier\n",
    "from sklearn.metrics import classification_report, accuracy_score, f1_score"
   ]
  },
  {
   "cell_type": "markdown",
   "metadata": {},
   "source": [
    "### Logistic Regression"
   ]
  },
  {
   "cell_type": "code",
   "execution_count": 10,
   "metadata": {},
   "outputs": [
    {
     "data": {
      "text/plain": [
       "LogisticRegression()"
      ]
     },
     "execution_count": 10,
     "metadata": {},
     "output_type": "execute_result"
    }
   ],
   "source": [
    "model_logistic = LogisticRegression()\n",
    "model_logistic.fit(x_train,y_train) # training logistic regression"
   ]
  },
  {
   "cell_type": "code",
   "execution_count": 11,
   "metadata": {},
   "outputs": [],
   "source": [
    "def get_report(model, x_train,y_train,x_test,y_test):\n",
    "    y_pred_train = model.predict(x_train)\n",
    "    y_pred_test = model.predict(x_test)\n",
    "\n",
    "    # accuracy score\n",
    "    acc_train = accuracy_score(y_train,y_pred_train)\n",
    "    acc_test = accuracy_score(y_test,y_pred_test)\n",
    "\n",
    "    # f1 score\n",
    "    f1_score_train = f1_score(y_train,y_pred_train,average='macro')\n",
    "    f1_score_test = f1_score(y_test,y_pred_test,average='macro')\n",
    "\n",
    "\n",
    "    print('Accuracy Train = %0.2f'%acc_train)\n",
    "    print('Accuracy Test = %0.2f'%acc_test)\n",
    "    print('F1 Score Train = %0.2f'%f1_score_train)\n",
    "    print('F1 Score Test = %0.2f'%f1_score_test)"
   ]
  },
  {
   "cell_type": "code",
   "execution_count": 12,
   "metadata": {},
   "outputs": [
    {
     "name": "stdout",
     "output_type": "stream",
     "text": [
      "Accuracy Train = 0.31\n",
      "Accuracy Test = 0.23\n",
      "F1 Score Train = 0.23\n",
      "F1 Score Test = 0.18\n"
     ]
    }
   ],
   "source": [
    "get_report(model_logistic,x_train,y_train,x_test,y_test)"
   ]
  },
  {
   "cell_type": "markdown",
   "metadata": {},
   "source": [
    "### Support Vector Machines"
   ]
  },
  {
   "cell_type": "code",
   "execution_count": 13,
   "metadata": {},
   "outputs": [
    {
     "data": {
      "text/plain": [
       "SVC(probability=True)"
      ]
     },
     "execution_count": 13,
     "metadata": {},
     "output_type": "execute_result"
    }
   ],
   "source": [
    "model_svc = SVC(probability=True)\n",
    "model_svc.fit(x_train,y_train)"
   ]
  },
  {
   "cell_type": "code",
   "execution_count": 14,
   "metadata": {},
   "outputs": [
    {
     "name": "stdout",
     "output_type": "stream",
     "text": [
      "Accuracy Train = 0.42\n",
      "Accuracy Test = 0.25\n",
      "F1 Score Train = 0.32\n",
      "F1 Score Test = 0.17\n"
     ]
    }
   ],
   "source": [
    "get_report(model_svc,x_train,y_train,x_test,y_test)"
   ]
  },
  {
   "cell_type": "markdown",
   "metadata": {},
   "source": [
    "### Random Forest"
   ]
  },
  {
   "cell_type": "code",
   "execution_count": 15,
   "metadata": {},
   "outputs": [
    {
     "data": {
      "text/plain": [
       "RandomForestClassifier(n_estimators=10)"
      ]
     },
     "execution_count": 15,
     "metadata": {},
     "output_type": "execute_result"
    }
   ],
   "source": [
    "model_rf = RandomForestClassifier(n_estimators=10,)\n",
    "model_rf.fit(x_train,y_train)"
   ]
  },
  {
   "cell_type": "code",
   "execution_count": 16,
   "metadata": {},
   "outputs": [
    {
     "name": "stdout",
     "output_type": "stream",
     "text": [
      "Accuracy Train = 0.99\n",
      "Accuracy Test = 0.47\n",
      "F1 Score Train = 0.99\n",
      "F1 Score Test = 0.46\n"
     ]
    }
   ],
   "source": [
    "get_report(model_rf,x_train,y_train,x_test,y_test)"
   ]
  },
  {
   "cell_type": "markdown",
   "metadata": {},
   "source": [
    "## Voting Classifier"
   ]
  },
  {
   "cell_type": "code",
   "execution_count": 17,
   "metadata": {},
   "outputs": [],
   "source": [
    "model_voting = VotingClassifier(estimators=[\n",
    "    ('logistic',LogisticRegression()),\n",
    "    ('svm',SVC(probability=True)),\n",
    "    ('rf',RandomForestClassifier())\n",
    "], voting='soft',weights=[2,3,1])"
   ]
  },
  {
   "cell_type": "code",
   "execution_count": 18,
   "metadata": {},
   "outputs": [
    {
     "data": {
      "text/plain": [
       "VotingClassifier(estimators=[('logistic', LogisticRegression()),\n",
       "                             ('svm', SVC(probability=True)),\n",
       "                             ('rf', RandomForestClassifier())],\n",
       "                 voting='soft', weights=[2, 3, 1])"
      ]
     },
     "execution_count": 18,
     "metadata": {},
     "output_type": "execute_result"
    }
   ],
   "source": [
    "model_voting.fit(x_train,y_train)"
   ]
  },
  {
   "cell_type": "code",
   "execution_count": 19,
   "metadata": {},
   "outputs": [
    {
     "name": "stdout",
     "output_type": "stream",
     "text": [
      "Accuracy Train = 0.84\n",
      "Accuracy Test = 0.40\n",
      "F1 Score Train = 0.84\n",
      "F1 Score Test = 0.39\n"
     ]
    }
   ],
   "source": [
    "get_report(model_voting,x_train,y_train,x_test,y_test)"
   ]
  },
  {
   "cell_type": "markdown",
   "metadata": {},
   "source": [
    "# 3. Parameter Tuning"
   ]
  },
  {
   "cell_type": "code",
   "execution_count": 20,
   "metadata": {},
   "outputs": [],
   "source": [
    "from sklearn.model_selection import GridSearchCV"
   ]
  },
  {
   "cell_type": "code",
   "execution_count": 21,
   "metadata": {},
   "outputs": [],
   "source": [
    "model_grid = GridSearchCV(model_voting,\n",
    "                         param_grid={\n",
    "                             'svm__C':[3,5,7,10],\n",
    "                             'svm__gamma':[0.1,0.3,0.5],\n",
    "                             'rf__n_estimators':[5,10,20],\n",
    "                             'rf__max_depth':[3,5,7],\n",
    "                             'voting':['soft','hard']\n",
    "                         },scoring='accuracy',cv=3,n_jobs=1,verbose=2)"
   ]
  },
  {
   "cell_type": "code",
   "execution_count": 22,
   "metadata": {
    "scrolled": true
   },
   "outputs": [
    {
     "name": "stdout",
     "output_type": "stream",
     "text": [
      "Fitting 3 folds for each of 216 candidates, totalling 648 fits\n",
      "[CV] END rf__max_depth=3, rf__n_estimators=5, svm__C=3, svm__gamma=0.1, voting=soft; total time=   2.0s\n",
      "[CV] END rf__max_depth=3, rf__n_estimators=5, svm__C=3, svm__gamma=0.1, voting=soft; total time=   1.9s\n",
      "[CV] END rf__max_depth=3, rf__n_estimators=5, svm__C=3, svm__gamma=0.1, voting=soft; total time=   2.0s\n",
      "[CV] END rf__max_depth=3, rf__n_estimators=5, svm__C=3, svm__gamma=0.1, voting=hard; total time=   1.9s\n",
      "[CV] END rf__max_depth=3, rf__n_estimators=5, svm__C=3, svm__gamma=0.1, voting=hard; total time=   2.0s\n",
      "[CV] END rf__max_depth=3, rf__n_estimators=5, svm__C=3, svm__gamma=0.1, voting=hard; total time=   2.0s\n",
      "[CV] END rf__max_depth=3, rf__n_estimators=5, svm__C=3, svm__gamma=0.3, voting=soft; total time=   2.0s\n",
      "[CV] END rf__max_depth=3, rf__n_estimators=5, svm__C=3, svm__gamma=0.3, voting=soft; total time=   2.0s\n",
      "[CV] END rf__max_depth=3, rf__n_estimators=5, svm__C=3, svm__gamma=0.3, voting=soft; total time=   2.2s\n",
      "[CV] END rf__max_depth=3, rf__n_estimators=5, svm__C=3, svm__gamma=0.3, voting=hard; total time=   2.4s\n",
      "[CV] END rf__max_depth=3, rf__n_estimators=5, svm__C=3, svm__gamma=0.3, voting=hard; total time=   2.2s\n",
      "[CV] END rf__max_depth=3, rf__n_estimators=5, svm__C=3, svm__gamma=0.3, voting=hard; total time=   1.9s\n",
      "[CV] END rf__max_depth=3, rf__n_estimators=5, svm__C=3, svm__gamma=0.5, voting=soft; total time=   1.9s\n",
      "[CV] END rf__max_depth=3, rf__n_estimators=5, svm__C=3, svm__gamma=0.5, voting=soft; total time=   2.0s\n",
      "[CV] END rf__max_depth=3, rf__n_estimators=5, svm__C=3, svm__gamma=0.5, voting=soft; total time=   1.9s\n",
      "[CV] END rf__max_depth=3, rf__n_estimators=5, svm__C=3, svm__gamma=0.5, voting=hard; total time=   1.9s\n",
      "[CV] END rf__max_depth=3, rf__n_estimators=5, svm__C=3, svm__gamma=0.5, voting=hard; total time=   2.0s\n",
      "[CV] END rf__max_depth=3, rf__n_estimators=5, svm__C=3, svm__gamma=0.5, voting=hard; total time=   1.9s\n",
      "[CV] END rf__max_depth=3, rf__n_estimators=5, svm__C=5, svm__gamma=0.1, voting=soft; total time=   1.9s\n",
      "[CV] END rf__max_depth=3, rf__n_estimators=5, svm__C=5, svm__gamma=0.1, voting=soft; total time=   1.9s\n",
      "[CV] END rf__max_depth=3, rf__n_estimators=5, svm__C=5, svm__gamma=0.1, voting=soft; total time=   2.0s\n",
      "[CV] END rf__max_depth=3, rf__n_estimators=5, svm__C=5, svm__gamma=0.1, voting=hard; total time=   1.9s\n",
      "[CV] END rf__max_depth=3, rf__n_estimators=5, svm__C=5, svm__gamma=0.1, voting=hard; total time=   1.9s\n",
      "[CV] END rf__max_depth=3, rf__n_estimators=5, svm__C=5, svm__gamma=0.1, voting=hard; total time=   1.9s\n",
      "[CV] END rf__max_depth=3, rf__n_estimators=5, svm__C=5, svm__gamma=0.3, voting=soft; total time=   1.9s\n",
      "[CV] END rf__max_depth=3, rf__n_estimators=5, svm__C=5, svm__gamma=0.3, voting=soft; total time=   1.9s\n",
      "[CV] END rf__max_depth=3, rf__n_estimators=5, svm__C=5, svm__gamma=0.3, voting=soft; total time=   1.9s\n",
      "[CV] END rf__max_depth=3, rf__n_estimators=5, svm__C=5, svm__gamma=0.3, voting=hard; total time=   1.9s\n",
      "[CV] END rf__max_depth=3, rf__n_estimators=5, svm__C=5, svm__gamma=0.3, voting=hard; total time=   2.0s\n",
      "[CV] END rf__max_depth=3, rf__n_estimators=5, svm__C=5, svm__gamma=0.3, voting=hard; total time=   1.9s\n",
      "[CV] END rf__max_depth=3, rf__n_estimators=5, svm__C=5, svm__gamma=0.5, voting=soft; total time=   2.0s\n",
      "[CV] END rf__max_depth=3, rf__n_estimators=5, svm__C=5, svm__gamma=0.5, voting=soft; total time=   2.0s\n",
      "[CV] END rf__max_depth=3, rf__n_estimators=5, svm__C=5, svm__gamma=0.5, voting=soft; total time=   1.9s\n",
      "[CV] END rf__max_depth=3, rf__n_estimators=5, svm__C=5, svm__gamma=0.5, voting=hard; total time=   1.9s\n",
      "[CV] END rf__max_depth=3, rf__n_estimators=5, svm__C=5, svm__gamma=0.5, voting=hard; total time=   2.0s\n",
      "[CV] END rf__max_depth=3, rf__n_estimators=5, svm__C=5, svm__gamma=0.5, voting=hard; total time=   1.9s\n",
      "[CV] END rf__max_depth=3, rf__n_estimators=5, svm__C=7, svm__gamma=0.1, voting=soft; total time=   1.9s\n",
      "[CV] END rf__max_depth=3, rf__n_estimators=5, svm__C=7, svm__gamma=0.1, voting=soft; total time=   2.0s\n",
      "[CV] END rf__max_depth=3, rf__n_estimators=5, svm__C=7, svm__gamma=0.1, voting=soft; total time=   1.9s\n",
      "[CV] END rf__max_depth=3, rf__n_estimators=5, svm__C=7, svm__gamma=0.1, voting=hard; total time=   1.9s\n",
      "[CV] END rf__max_depth=3, rf__n_estimators=5, svm__C=7, svm__gamma=0.1, voting=hard; total time=   2.0s\n",
      "[CV] END rf__max_depth=3, rf__n_estimators=5, svm__C=7, svm__gamma=0.1, voting=hard; total time=   1.9s\n",
      "[CV] END rf__max_depth=3, rf__n_estimators=5, svm__C=7, svm__gamma=0.3, voting=soft; total time=   1.9s\n",
      "[CV] END rf__max_depth=3, rf__n_estimators=5, svm__C=7, svm__gamma=0.3, voting=soft; total time=   2.0s\n",
      "[CV] END rf__max_depth=3, rf__n_estimators=5, svm__C=7, svm__gamma=0.3, voting=soft; total time=   1.9s\n",
      "[CV] END rf__max_depth=3, rf__n_estimators=5, svm__C=7, svm__gamma=0.3, voting=hard; total time=   2.0s\n",
      "[CV] END rf__max_depth=3, rf__n_estimators=5, svm__C=7, svm__gamma=0.3, voting=hard; total time=   2.0s\n",
      "[CV] END rf__max_depth=3, rf__n_estimators=5, svm__C=7, svm__gamma=0.3, voting=hard; total time=   1.9s\n",
      "[CV] END rf__max_depth=3, rf__n_estimators=5, svm__C=7, svm__gamma=0.5, voting=soft; total time=   2.0s\n",
      "[CV] END rf__max_depth=3, rf__n_estimators=5, svm__C=7, svm__gamma=0.5, voting=soft; total time=   2.0s\n",
      "[CV] END rf__max_depth=3, rf__n_estimators=5, svm__C=7, svm__gamma=0.5, voting=soft; total time=   2.0s\n",
      "[CV] END rf__max_depth=3, rf__n_estimators=5, svm__C=7, svm__gamma=0.5, voting=hard; total time=   1.9s\n",
      "[CV] END rf__max_depth=3, rf__n_estimators=5, svm__C=7, svm__gamma=0.5, voting=hard; total time=   2.3s\n",
      "[CV] END rf__max_depth=3, rf__n_estimators=5, svm__C=7, svm__gamma=0.5, voting=hard; total time=   2.0s\n",
      "[CV] END rf__max_depth=3, rf__n_estimators=5, svm__C=10, svm__gamma=0.1, voting=soft; total time=   2.0s\n",
      "[CV] END rf__max_depth=3, rf__n_estimators=5, svm__C=10, svm__gamma=0.1, voting=soft; total time=   1.9s\n",
      "[CV] END rf__max_depth=3, rf__n_estimators=5, svm__C=10, svm__gamma=0.1, voting=soft; total time=   2.0s\n",
      "[CV] END rf__max_depth=3, rf__n_estimators=5, svm__C=10, svm__gamma=0.1, voting=hard; total time=   1.9s\n",
      "[CV] END rf__max_depth=3, rf__n_estimators=5, svm__C=10, svm__gamma=0.1, voting=hard; total time=   2.1s\n",
      "[CV] END rf__max_depth=3, rf__n_estimators=5, svm__C=10, svm__gamma=0.1, voting=hard; total time=   1.9s\n",
      "[CV] END rf__max_depth=3, rf__n_estimators=5, svm__C=10, svm__gamma=0.3, voting=soft; total time=   1.9s\n",
      "[CV] END rf__max_depth=3, rf__n_estimators=5, svm__C=10, svm__gamma=0.3, voting=soft; total time=   2.1s\n",
      "[CV] END rf__max_depth=3, rf__n_estimators=5, svm__C=10, svm__gamma=0.3, voting=soft; total time=   2.6s\n",
      "[CV] END rf__max_depth=3, rf__n_estimators=5, svm__C=10, svm__gamma=0.3, voting=hard; total time=   2.5s\n",
      "[CV] END rf__max_depth=3, rf__n_estimators=5, svm__C=10, svm__gamma=0.3, voting=hard; total time=   2.0s\n",
      "[CV] END rf__max_depth=3, rf__n_estimators=5, svm__C=10, svm__gamma=0.3, voting=hard; total time=   2.1s\n",
      "[CV] END rf__max_depth=3, rf__n_estimators=5, svm__C=10, svm__gamma=0.5, voting=soft; total time=   2.0s\n",
      "[CV] END rf__max_depth=3, rf__n_estimators=5, svm__C=10, svm__gamma=0.5, voting=soft; total time=   2.1s\n",
      "[CV] END rf__max_depth=3, rf__n_estimators=5, svm__C=10, svm__gamma=0.5, voting=soft; total time=   2.5s\n",
      "[CV] END rf__max_depth=3, rf__n_estimators=5, svm__C=10, svm__gamma=0.5, voting=hard; total time=   2.3s\n",
      "[CV] END rf__max_depth=3, rf__n_estimators=5, svm__C=10, svm__gamma=0.5, voting=hard; total time=   2.3s\n",
      "[CV] END rf__max_depth=3, rf__n_estimators=5, svm__C=10, svm__gamma=0.5, voting=hard; total time=   3.0s\n",
      "[CV] END rf__max_depth=3, rf__n_estimators=10, svm__C=3, svm__gamma=0.1, voting=soft; total time=   2.3s\n",
      "[CV] END rf__max_depth=3, rf__n_estimators=10, svm__C=3, svm__gamma=0.1, voting=soft; total time=   2.5s\n",
      "[CV] END rf__max_depth=3, rf__n_estimators=10, svm__C=3, svm__gamma=0.1, voting=soft; total time=   2.4s\n",
      "[CV] END rf__max_depth=3, rf__n_estimators=10, svm__C=3, svm__gamma=0.1, voting=hard; total time=   2.4s\n",
      "[CV] END rf__max_depth=3, rf__n_estimators=10, svm__C=3, svm__gamma=0.1, voting=hard; total time=   2.5s\n",
      "[CV] END rf__max_depth=3, rf__n_estimators=10, svm__C=3, svm__gamma=0.1, voting=hard; total time=   2.5s\n"
     ]
    },
    {
     "name": "stdout",
     "output_type": "stream",
     "text": [
      "[CV] END rf__max_depth=3, rf__n_estimators=10, svm__C=3, svm__gamma=0.3, voting=soft; total time=   2.5s\n",
      "[CV] END rf__max_depth=3, rf__n_estimators=10, svm__C=3, svm__gamma=0.3, voting=soft; total time=   2.5s\n",
      "[CV] END rf__max_depth=3, rf__n_estimators=10, svm__C=3, svm__gamma=0.3, voting=soft; total time=   2.5s\n",
      "[CV] END rf__max_depth=3, rf__n_estimators=10, svm__C=3, svm__gamma=0.3, voting=hard; total time=   2.4s\n",
      "[CV] END rf__max_depth=3, rf__n_estimators=10, svm__C=3, svm__gamma=0.3, voting=hard; total time=   2.6s\n",
      "[CV] END rf__max_depth=3, rf__n_estimators=10, svm__C=3, svm__gamma=0.3, voting=hard; total time=   2.3s\n",
      "[CV] END rf__max_depth=3, rf__n_estimators=10, svm__C=3, svm__gamma=0.5, voting=soft; total time=   2.5s\n",
      "[CV] END rf__max_depth=3, rf__n_estimators=10, svm__C=3, svm__gamma=0.5, voting=soft; total time=   1.8s\n",
      "[CV] END rf__max_depth=3, rf__n_estimators=10, svm__C=3, svm__gamma=0.5, voting=soft; total time=   1.6s\n",
      "[CV] END rf__max_depth=3, rf__n_estimators=10, svm__C=3, svm__gamma=0.5, voting=hard; total time=   1.5s\n",
      "[CV] END rf__max_depth=3, rf__n_estimators=10, svm__C=3, svm__gamma=0.5, voting=hard; total time=   1.5s\n",
      "[CV] END rf__max_depth=3, rf__n_estimators=10, svm__C=3, svm__gamma=0.5, voting=hard; total time=   1.5s\n",
      "[CV] END rf__max_depth=3, rf__n_estimators=10, svm__C=5, svm__gamma=0.1, voting=soft; total time=   1.5s\n",
      "[CV] END rf__max_depth=3, rf__n_estimators=10, svm__C=5, svm__gamma=0.1, voting=soft; total time=   1.5s\n",
      "[CV] END rf__max_depth=3, rf__n_estimators=10, svm__C=5, svm__gamma=0.1, voting=soft; total time=   1.5s\n",
      "[CV] END rf__max_depth=3, rf__n_estimators=10, svm__C=5, svm__gamma=0.1, voting=hard; total time=   1.5s\n",
      "[CV] END rf__max_depth=3, rf__n_estimators=10, svm__C=5, svm__gamma=0.1, voting=hard; total time=   1.6s\n",
      "[CV] END rf__max_depth=3, rf__n_estimators=10, svm__C=5, svm__gamma=0.1, voting=hard; total time=   1.4s\n",
      "[CV] END rf__max_depth=3, rf__n_estimators=10, svm__C=5, svm__gamma=0.3, voting=soft; total time=   1.4s\n",
      "[CV] END rf__max_depth=3, rf__n_estimators=10, svm__C=5, svm__gamma=0.3, voting=soft; total time=   1.5s\n",
      "[CV] END rf__max_depth=3, rf__n_estimators=10, svm__C=5, svm__gamma=0.3, voting=soft; total time=   1.5s\n",
      "[CV] END rf__max_depth=3, rf__n_estimators=10, svm__C=5, svm__gamma=0.3, voting=hard; total time=   1.4s\n",
      "[CV] END rf__max_depth=3, rf__n_estimators=10, svm__C=5, svm__gamma=0.3, voting=hard; total time=   1.5s\n",
      "[CV] END rf__max_depth=3, rf__n_estimators=10, svm__C=5, svm__gamma=0.3, voting=hard; total time=   1.5s\n",
      "[CV] END rf__max_depth=3, rf__n_estimators=10, svm__C=5, svm__gamma=0.5, voting=soft; total time=   1.5s\n",
      "[CV] END rf__max_depth=3, rf__n_estimators=10, svm__C=5, svm__gamma=0.5, voting=soft; total time=   1.5s\n",
      "[CV] END rf__max_depth=3, rf__n_estimators=10, svm__C=5, svm__gamma=0.5, voting=soft; total time=   1.5s\n",
      "[CV] END rf__max_depth=3, rf__n_estimators=10, svm__C=5, svm__gamma=0.5, voting=hard; total time=   1.5s\n",
      "[CV] END rf__max_depth=3, rf__n_estimators=10, svm__C=5, svm__gamma=0.5, voting=hard; total time=   1.6s\n",
      "[CV] END rf__max_depth=3, rf__n_estimators=10, svm__C=5, svm__gamma=0.5, voting=hard; total time=   1.5s\n",
      "[CV] END rf__max_depth=3, rf__n_estimators=10, svm__C=7, svm__gamma=0.1, voting=soft; total time=   1.5s\n",
      "[CV] END rf__max_depth=3, rf__n_estimators=10, svm__C=7, svm__gamma=0.1, voting=soft; total time=   2.2s\n",
      "[CV] END rf__max_depth=3, rf__n_estimators=10, svm__C=7, svm__gamma=0.1, voting=soft; total time=   1.9s\n",
      "[CV] END rf__max_depth=3, rf__n_estimators=10, svm__C=7, svm__gamma=0.1, voting=hard; total time=   1.6s\n",
      "[CV] END rf__max_depth=3, rf__n_estimators=10, svm__C=7, svm__gamma=0.1, voting=hard; total time=   1.5s\n",
      "[CV] END rf__max_depth=3, rf__n_estimators=10, svm__C=7, svm__gamma=0.1, voting=hard; total time=   1.5s\n",
      "[CV] END rf__max_depth=3, rf__n_estimators=10, svm__C=7, svm__gamma=0.3, voting=soft; total time=   1.5s\n",
      "[CV] END rf__max_depth=3, rf__n_estimators=10, svm__C=7, svm__gamma=0.3, voting=soft; total time=   1.5s\n",
      "[CV] END rf__max_depth=3, rf__n_estimators=10, svm__C=7, svm__gamma=0.3, voting=soft; total time=   1.5s\n",
      "[CV] END rf__max_depth=3, rf__n_estimators=10, svm__C=7, svm__gamma=0.3, voting=hard; total time=   1.5s\n",
      "[CV] END rf__max_depth=3, rf__n_estimators=10, svm__C=7, svm__gamma=0.3, voting=hard; total time=   1.5s\n",
      "[CV] END rf__max_depth=3, rf__n_estimators=10, svm__C=7, svm__gamma=0.3, voting=hard; total time=   1.5s\n",
      "[CV] END rf__max_depth=3, rf__n_estimators=10, svm__C=7, svm__gamma=0.5, voting=soft; total time=   1.5s\n",
      "[CV] END rf__max_depth=3, rf__n_estimators=10, svm__C=7, svm__gamma=0.5, voting=soft; total time=   1.5s\n",
      "[CV] END rf__max_depth=3, rf__n_estimators=10, svm__C=7, svm__gamma=0.5, voting=soft; total time=   1.5s\n",
      "[CV] END rf__max_depth=3, rf__n_estimators=10, svm__C=7, svm__gamma=0.5, voting=hard; total time=   1.5s\n",
      "[CV] END rf__max_depth=3, rf__n_estimators=10, svm__C=7, svm__gamma=0.5, voting=hard; total time=   1.5s\n",
      "[CV] END rf__max_depth=3, rf__n_estimators=10, svm__C=7, svm__gamma=0.5, voting=hard; total time=   1.5s\n",
      "[CV] END rf__max_depth=3, rf__n_estimators=10, svm__C=10, svm__gamma=0.1, voting=soft; total time=   1.5s\n",
      "[CV] END rf__max_depth=3, rf__n_estimators=10, svm__C=10, svm__gamma=0.1, voting=soft; total time=   1.5s\n",
      "[CV] END rf__max_depth=3, rf__n_estimators=10, svm__C=10, svm__gamma=0.1, voting=soft; total time=   1.5s\n",
      "[CV] END rf__max_depth=3, rf__n_estimators=10, svm__C=10, svm__gamma=0.1, voting=hard; total time=   1.5s\n",
      "[CV] END rf__max_depth=3, rf__n_estimators=10, svm__C=10, svm__gamma=0.1, voting=hard; total time=   1.5s\n",
      "[CV] END rf__max_depth=3, rf__n_estimators=10, svm__C=10, svm__gamma=0.1, voting=hard; total time=   1.5s\n",
      "[CV] END rf__max_depth=3, rf__n_estimators=10, svm__C=10, svm__gamma=0.3, voting=soft; total time=   1.5s\n",
      "[CV] END rf__max_depth=3, rf__n_estimators=10, svm__C=10, svm__gamma=0.3, voting=soft; total time=   1.5s\n",
      "[CV] END rf__max_depth=3, rf__n_estimators=10, svm__C=10, svm__gamma=0.3, voting=soft; total time=   1.5s\n",
      "[CV] END rf__max_depth=3, rf__n_estimators=10, svm__C=10, svm__gamma=0.3, voting=hard; total time=   1.6s\n",
      "[CV] END rf__max_depth=3, rf__n_estimators=10, svm__C=10, svm__gamma=0.3, voting=hard; total time=   1.5s\n",
      "[CV] END rf__max_depth=3, rf__n_estimators=10, svm__C=10, svm__gamma=0.3, voting=hard; total time=   1.6s\n",
      "[CV] END rf__max_depth=3, rf__n_estimators=10, svm__C=10, svm__gamma=0.5, voting=soft; total time=   1.7s\n",
      "[CV] END rf__max_depth=3, rf__n_estimators=10, svm__C=10, svm__gamma=0.5, voting=soft; total time=   1.5s\n",
      "[CV] END rf__max_depth=3, rf__n_estimators=10, svm__C=10, svm__gamma=0.5, voting=soft; total time=   1.6s\n",
      "[CV] END rf__max_depth=3, rf__n_estimators=10, svm__C=10, svm__gamma=0.5, voting=hard; total time=   1.5s\n",
      "[CV] END rf__max_depth=3, rf__n_estimators=10, svm__C=10, svm__gamma=0.5, voting=hard; total time=   1.6s\n",
      "[CV] END rf__max_depth=3, rf__n_estimators=10, svm__C=10, svm__gamma=0.5, voting=hard; total time=   1.5s\n",
      "[CV] END rf__max_depth=3, rf__n_estimators=20, svm__C=3, svm__gamma=0.1, voting=soft; total time=   1.6s\n",
      "[CV] END rf__max_depth=3, rf__n_estimators=20, svm__C=3, svm__gamma=0.1, voting=soft; total time=   1.5s\n",
      "[CV] END rf__max_depth=3, rf__n_estimators=20, svm__C=3, svm__gamma=0.1, voting=soft; total time=   1.6s\n",
      "[CV] END rf__max_depth=3, rf__n_estimators=20, svm__C=3, svm__gamma=0.1, voting=hard; total time=   1.5s\n",
      "[CV] END rf__max_depth=3, rf__n_estimators=20, svm__C=3, svm__gamma=0.1, voting=hard; total time=   1.5s\n",
      "[CV] END rf__max_depth=3, rf__n_estimators=20, svm__C=3, svm__gamma=0.1, voting=hard; total time=   1.5s\n",
      "[CV] END rf__max_depth=3, rf__n_estimators=20, svm__C=3, svm__gamma=0.3, voting=soft; total time=   1.7s\n",
      "[CV] END rf__max_depth=3, rf__n_estimators=20, svm__C=3, svm__gamma=0.3, voting=soft; total time=   1.5s\n",
      "[CV] END rf__max_depth=3, rf__n_estimators=20, svm__C=3, svm__gamma=0.3, voting=soft; total time=   1.5s\n",
      "[CV] END rf__max_depth=3, rf__n_estimators=20, svm__C=3, svm__gamma=0.3, voting=hard; total time=   1.6s\n",
      "[CV] END rf__max_depth=3, rf__n_estimators=20, svm__C=3, svm__gamma=0.3, voting=hard; total time=   1.5s\n",
      "[CV] END rf__max_depth=3, rf__n_estimators=20, svm__C=3, svm__gamma=0.3, voting=hard; total time=   1.6s\n"
     ]
    },
    {
     "name": "stdout",
     "output_type": "stream",
     "text": [
      "[CV] END rf__max_depth=3, rf__n_estimators=20, svm__C=3, svm__gamma=0.5, voting=soft; total time=   1.5s\n",
      "[CV] END rf__max_depth=3, rf__n_estimators=20, svm__C=3, svm__gamma=0.5, voting=soft; total time=   1.6s\n",
      "[CV] END rf__max_depth=3, rf__n_estimators=20, svm__C=3, svm__gamma=0.5, voting=soft; total time=   1.6s\n",
      "[CV] END rf__max_depth=3, rf__n_estimators=20, svm__C=3, svm__gamma=0.5, voting=hard; total time=   1.5s\n",
      "[CV] END rf__max_depth=3, rf__n_estimators=20, svm__C=3, svm__gamma=0.5, voting=hard; total time=   1.6s\n",
      "[CV] END rf__max_depth=3, rf__n_estimators=20, svm__C=3, svm__gamma=0.5, voting=hard; total time=   1.6s\n",
      "[CV] END rf__max_depth=3, rf__n_estimators=20, svm__C=5, svm__gamma=0.1, voting=soft; total time=   1.5s\n",
      "[CV] END rf__max_depth=3, rf__n_estimators=20, svm__C=5, svm__gamma=0.1, voting=soft; total time=   1.6s\n",
      "[CV] END rf__max_depth=3, rf__n_estimators=20, svm__C=5, svm__gamma=0.1, voting=soft; total time=   1.6s\n",
      "[CV] END rf__max_depth=3, rf__n_estimators=20, svm__C=5, svm__gamma=0.1, voting=hard; total time=   1.6s\n",
      "[CV] END rf__max_depth=3, rf__n_estimators=20, svm__C=5, svm__gamma=0.1, voting=hard; total time=   1.6s\n",
      "[CV] END rf__max_depth=3, rf__n_estimators=20, svm__C=5, svm__gamma=0.1, voting=hard; total time=   1.5s\n",
      "[CV] END rf__max_depth=3, rf__n_estimators=20, svm__C=5, svm__gamma=0.3, voting=soft; total time=   1.5s\n",
      "[CV] END rf__max_depth=3, rf__n_estimators=20, svm__C=5, svm__gamma=0.3, voting=soft; total time=   1.6s\n",
      "[CV] END rf__max_depth=3, rf__n_estimators=20, svm__C=5, svm__gamma=0.3, voting=soft; total time=   1.5s\n",
      "[CV] END rf__max_depth=3, rf__n_estimators=20, svm__C=5, svm__gamma=0.3, voting=hard; total time=   1.5s\n",
      "[CV] END rf__max_depth=3, rf__n_estimators=20, svm__C=5, svm__gamma=0.3, voting=hard; total time=   1.5s\n",
      "[CV] END rf__max_depth=3, rf__n_estimators=20, svm__C=5, svm__gamma=0.3, voting=hard; total time=   1.5s\n",
      "[CV] END rf__max_depth=3, rf__n_estimators=20, svm__C=5, svm__gamma=0.5, voting=soft; total time=   1.5s\n",
      "[CV] END rf__max_depth=3, rf__n_estimators=20, svm__C=5, svm__gamma=0.5, voting=soft; total time=   1.6s\n",
      "[CV] END rf__max_depth=3, rf__n_estimators=20, svm__C=5, svm__gamma=0.5, voting=soft; total time=   1.5s\n",
      "[CV] END rf__max_depth=3, rf__n_estimators=20, svm__C=5, svm__gamma=0.5, voting=hard; total time=   1.5s\n",
      "[CV] END rf__max_depth=3, rf__n_estimators=20, svm__C=5, svm__gamma=0.5, voting=hard; total time=   1.6s\n",
      "[CV] END rf__max_depth=3, rf__n_estimators=20, svm__C=5, svm__gamma=0.5, voting=hard; total time=   1.5s\n",
      "[CV] END rf__max_depth=3, rf__n_estimators=20, svm__C=7, svm__gamma=0.1, voting=soft; total time=   1.5s\n",
      "[CV] END rf__max_depth=3, rf__n_estimators=20, svm__C=7, svm__gamma=0.1, voting=soft; total time=   1.8s\n",
      "[CV] END rf__max_depth=3, rf__n_estimators=20, svm__C=7, svm__gamma=0.1, voting=soft; total time=   1.5s\n",
      "[CV] END rf__max_depth=3, rf__n_estimators=20, svm__C=7, svm__gamma=0.1, voting=hard; total time=   1.6s\n",
      "[CV] END rf__max_depth=3, rf__n_estimators=20, svm__C=7, svm__gamma=0.1, voting=hard; total time=   1.7s\n",
      "[CV] END rf__max_depth=3, rf__n_estimators=20, svm__C=7, svm__gamma=0.1, voting=hard; total time=   1.6s\n",
      "[CV] END rf__max_depth=3, rf__n_estimators=20, svm__C=7, svm__gamma=0.3, voting=soft; total time=   1.6s\n",
      "[CV] END rf__max_depth=3, rf__n_estimators=20, svm__C=7, svm__gamma=0.3, voting=soft; total time=   1.6s\n",
      "[CV] END rf__max_depth=3, rf__n_estimators=20, svm__C=7, svm__gamma=0.3, voting=soft; total time=   1.6s\n",
      "[CV] END rf__max_depth=3, rf__n_estimators=20, svm__C=7, svm__gamma=0.3, voting=hard; total time=   1.6s\n",
      "[CV] END rf__max_depth=3, rf__n_estimators=20, svm__C=7, svm__gamma=0.3, voting=hard; total time=   1.6s\n",
      "[CV] END rf__max_depth=3, rf__n_estimators=20, svm__C=7, svm__gamma=0.3, voting=hard; total time=   1.5s\n",
      "[CV] END rf__max_depth=3, rf__n_estimators=20, svm__C=7, svm__gamma=0.5, voting=soft; total time=   1.6s\n",
      "[CV] END rf__max_depth=3, rf__n_estimators=20, svm__C=7, svm__gamma=0.5, voting=soft; total time=   1.8s\n",
      "[CV] END rf__max_depth=3, rf__n_estimators=20, svm__C=7, svm__gamma=0.5, voting=soft; total time=   1.6s\n",
      "[CV] END rf__max_depth=3, rf__n_estimators=20, svm__C=7, svm__gamma=0.5, voting=hard; total time=   1.6s\n",
      "[CV] END rf__max_depth=3, rf__n_estimators=20, svm__C=7, svm__gamma=0.5, voting=hard; total time=   1.6s\n",
      "[CV] END rf__max_depth=3, rf__n_estimators=20, svm__C=7, svm__gamma=0.5, voting=hard; total time=   1.6s\n",
      "[CV] END rf__max_depth=3, rf__n_estimators=20, svm__C=10, svm__gamma=0.1, voting=soft; total time=   1.5s\n",
      "[CV] END rf__max_depth=3, rf__n_estimators=20, svm__C=10, svm__gamma=0.1, voting=soft; total time=   1.7s\n",
      "[CV] END rf__max_depth=3, rf__n_estimators=20, svm__C=10, svm__gamma=0.1, voting=soft; total time=   1.5s\n",
      "[CV] END rf__max_depth=3, rf__n_estimators=20, svm__C=10, svm__gamma=0.1, voting=hard; total time=   1.6s\n",
      "[CV] END rf__max_depth=3, rf__n_estimators=20, svm__C=10, svm__gamma=0.1, voting=hard; total time=   1.6s\n",
      "[CV] END rf__max_depth=3, rf__n_estimators=20, svm__C=10, svm__gamma=0.1, voting=hard; total time=   1.5s\n",
      "[CV] END rf__max_depth=3, rf__n_estimators=20, svm__C=10, svm__gamma=0.3, voting=soft; total time=   1.5s\n",
      "[CV] END rf__max_depth=3, rf__n_estimators=20, svm__C=10, svm__gamma=0.3, voting=soft; total time=   1.6s\n",
      "[CV] END rf__max_depth=3, rf__n_estimators=20, svm__C=10, svm__gamma=0.3, voting=soft; total time=   1.5s\n",
      "[CV] END rf__max_depth=3, rf__n_estimators=20, svm__C=10, svm__gamma=0.3, voting=hard; total time=   1.6s\n",
      "[CV] END rf__max_depth=3, rf__n_estimators=20, svm__C=10, svm__gamma=0.3, voting=hard; total time=   1.6s\n",
      "[CV] END rf__max_depth=3, rf__n_estimators=20, svm__C=10, svm__gamma=0.3, voting=hard; total time=   2.4s\n",
      "[CV] END rf__max_depth=3, rf__n_estimators=20, svm__C=10, svm__gamma=0.5, voting=soft; total time=   2.5s\n",
      "[CV] END rf__max_depth=3, rf__n_estimators=20, svm__C=10, svm__gamma=0.5, voting=soft; total time=   2.4s\n",
      "[CV] END rf__max_depth=3, rf__n_estimators=20, svm__C=10, svm__gamma=0.5, voting=soft; total time=   2.3s\n",
      "[CV] END rf__max_depth=3, rf__n_estimators=20, svm__C=10, svm__gamma=0.5, voting=hard; total time=   1.8s\n",
      "[CV] END rf__max_depth=3, rf__n_estimators=20, svm__C=10, svm__gamma=0.5, voting=hard; total time=   1.6s\n",
      "[CV] END rf__max_depth=3, rf__n_estimators=20, svm__C=10, svm__gamma=0.5, voting=hard; total time=   1.9s\n",
      "[CV] END rf__max_depth=5, rf__n_estimators=5, svm__C=3, svm__gamma=0.1, voting=soft; total time=   1.4s\n",
      "[CV] END rf__max_depth=5, rf__n_estimators=5, svm__C=3, svm__gamma=0.1, voting=soft; total time=   1.5s\n",
      "[CV] END rf__max_depth=5, rf__n_estimators=5, svm__C=3, svm__gamma=0.1, voting=soft; total time=   1.4s\n",
      "[CV] END rf__max_depth=5, rf__n_estimators=5, svm__C=3, svm__gamma=0.1, voting=hard; total time=   1.5s\n",
      "[CV] END rf__max_depth=5, rf__n_estimators=5, svm__C=3, svm__gamma=0.1, voting=hard; total time=   1.4s\n",
      "[CV] END rf__max_depth=5, rf__n_estimators=5, svm__C=3, svm__gamma=0.1, voting=hard; total time=   1.4s\n",
      "[CV] END rf__max_depth=5, rf__n_estimators=5, svm__C=3, svm__gamma=0.3, voting=soft; total time=   1.4s\n",
      "[CV] END rf__max_depth=5, rf__n_estimators=5, svm__C=3, svm__gamma=0.3, voting=soft; total time=   1.5s\n",
      "[CV] END rf__max_depth=5, rf__n_estimators=5, svm__C=3, svm__gamma=0.3, voting=soft; total time=   1.4s\n",
      "[CV] END rf__max_depth=5, rf__n_estimators=5, svm__C=3, svm__gamma=0.3, voting=hard; total time=   1.5s\n",
      "[CV] END rf__max_depth=5, rf__n_estimators=5, svm__C=3, svm__gamma=0.3, voting=hard; total time=   1.4s\n",
      "[CV] END rf__max_depth=5, rf__n_estimators=5, svm__C=3, svm__gamma=0.3, voting=hard; total time=   1.5s\n",
      "[CV] END rf__max_depth=5, rf__n_estimators=5, svm__C=3, svm__gamma=0.5, voting=soft; total time=   1.4s\n",
      "[CV] END rf__max_depth=5, rf__n_estimators=5, svm__C=3, svm__gamma=0.5, voting=soft; total time=   1.5s\n",
      "[CV] END rf__max_depth=5, rf__n_estimators=5, svm__C=3, svm__gamma=0.5, voting=soft; total time=   1.4s\n",
      "[CV] END rf__max_depth=5, rf__n_estimators=5, svm__C=3, svm__gamma=0.5, voting=hard; total time=   1.5s\n",
      "[CV] END rf__max_depth=5, rf__n_estimators=5, svm__C=3, svm__gamma=0.5, voting=hard; total time=   1.5s\n",
      "[CV] END rf__max_depth=5, rf__n_estimators=5, svm__C=3, svm__gamma=0.5, voting=hard; total time=   1.5s\n",
      "[CV] END rf__max_depth=5, rf__n_estimators=5, svm__C=5, svm__gamma=0.1, voting=soft; total time=   1.4s\n"
     ]
    },
    {
     "name": "stdout",
     "output_type": "stream",
     "text": [
      "[CV] END rf__max_depth=5, rf__n_estimators=5, svm__C=5, svm__gamma=0.1, voting=soft; total time=   1.5s\n",
      "[CV] END rf__max_depth=5, rf__n_estimators=5, svm__C=5, svm__gamma=0.1, voting=soft; total time=   1.4s\n",
      "[CV] END rf__max_depth=5, rf__n_estimators=5, svm__C=5, svm__gamma=0.1, voting=hard; total time=   1.4s\n",
      "[CV] END rf__max_depth=5, rf__n_estimators=5, svm__C=5, svm__gamma=0.1, voting=hard; total time=   1.9s\n",
      "[CV] END rf__max_depth=5, rf__n_estimators=5, svm__C=5, svm__gamma=0.1, voting=hard; total time=   1.8s\n",
      "[CV] END rf__max_depth=5, rf__n_estimators=5, svm__C=5, svm__gamma=0.3, voting=soft; total time=   1.5s\n",
      "[CV] END rf__max_depth=5, rf__n_estimators=5, svm__C=5, svm__gamma=0.3, voting=soft; total time=   1.5s\n",
      "[CV] END rf__max_depth=5, rf__n_estimators=5, svm__C=5, svm__gamma=0.3, voting=soft; total time=   1.5s\n",
      "[CV] END rf__max_depth=5, rf__n_estimators=5, svm__C=5, svm__gamma=0.3, voting=hard; total time=   1.5s\n",
      "[CV] END rf__max_depth=5, rf__n_estimators=5, svm__C=5, svm__gamma=0.3, voting=hard; total time=   1.5s\n",
      "[CV] END rf__max_depth=5, rf__n_estimators=5, svm__C=5, svm__gamma=0.3, voting=hard; total time=   1.5s\n",
      "[CV] END rf__max_depth=5, rf__n_estimators=5, svm__C=5, svm__gamma=0.5, voting=soft; total time=   1.4s\n",
      "[CV] END rf__max_depth=5, rf__n_estimators=5, svm__C=5, svm__gamma=0.5, voting=soft; total time=   1.6s\n",
      "[CV] END rf__max_depth=5, rf__n_estimators=5, svm__C=5, svm__gamma=0.5, voting=soft; total time=   1.5s\n",
      "[CV] END rf__max_depth=5, rf__n_estimators=5, svm__C=5, svm__gamma=0.5, voting=hard; total time=   1.4s\n",
      "[CV] END rf__max_depth=5, rf__n_estimators=5, svm__C=5, svm__gamma=0.5, voting=hard; total time=   1.4s\n",
      "[CV] END rf__max_depth=5, rf__n_estimators=5, svm__C=5, svm__gamma=0.5, voting=hard; total time=   1.5s\n",
      "[CV] END rf__max_depth=5, rf__n_estimators=5, svm__C=7, svm__gamma=0.1, voting=soft; total time=   1.4s\n",
      "[CV] END rf__max_depth=5, rf__n_estimators=5, svm__C=7, svm__gamma=0.1, voting=soft; total time=   1.4s\n",
      "[CV] END rf__max_depth=5, rf__n_estimators=5, svm__C=7, svm__gamma=0.1, voting=soft; total time=   1.4s\n",
      "[CV] END rf__max_depth=5, rf__n_estimators=5, svm__C=7, svm__gamma=0.1, voting=hard; total time=   1.4s\n",
      "[CV] END rf__max_depth=5, rf__n_estimators=5, svm__C=7, svm__gamma=0.1, voting=hard; total time=   1.5s\n",
      "[CV] END rf__max_depth=5, rf__n_estimators=5, svm__C=7, svm__gamma=0.1, voting=hard; total time=   1.4s\n",
      "[CV] END rf__max_depth=5, rf__n_estimators=5, svm__C=7, svm__gamma=0.3, voting=soft; total time=   1.5s\n",
      "[CV] END rf__max_depth=5, rf__n_estimators=5, svm__C=7, svm__gamma=0.3, voting=soft; total time=   1.4s\n",
      "[CV] END rf__max_depth=5, rf__n_estimators=5, svm__C=7, svm__gamma=0.3, voting=soft; total time=   1.5s\n",
      "[CV] END rf__max_depth=5, rf__n_estimators=5, svm__C=7, svm__gamma=0.3, voting=hard; total time=   1.5s\n",
      "[CV] END rf__max_depth=5, rf__n_estimators=5, svm__C=7, svm__gamma=0.3, voting=hard; total time=   1.4s\n",
      "[CV] END rf__max_depth=5, rf__n_estimators=5, svm__C=7, svm__gamma=0.3, voting=hard; total time=   1.4s\n",
      "[CV] END rf__max_depth=5, rf__n_estimators=5, svm__C=7, svm__gamma=0.5, voting=soft; total time=   1.5s\n",
      "[CV] END rf__max_depth=5, rf__n_estimators=5, svm__C=7, svm__gamma=0.5, voting=soft; total time=   1.5s\n",
      "[CV] END rf__max_depth=5, rf__n_estimators=5, svm__C=7, svm__gamma=0.5, voting=soft; total time=   1.5s\n",
      "[CV] END rf__max_depth=5, rf__n_estimators=5, svm__C=7, svm__gamma=0.5, voting=hard; total time=   1.5s\n",
      "[CV] END rf__max_depth=5, rf__n_estimators=5, svm__C=7, svm__gamma=0.5, voting=hard; total time=   1.7s\n",
      "[CV] END rf__max_depth=5, rf__n_estimators=5, svm__C=7, svm__gamma=0.5, voting=hard; total time=   1.5s\n",
      "[CV] END rf__max_depth=5, rf__n_estimators=5, svm__C=10, svm__gamma=0.1, voting=soft; total time=   1.4s\n",
      "[CV] END rf__max_depth=5, rf__n_estimators=5, svm__C=10, svm__gamma=0.1, voting=soft; total time=   1.4s\n",
      "[CV] END rf__max_depth=5, rf__n_estimators=5, svm__C=10, svm__gamma=0.1, voting=soft; total time=   1.4s\n",
      "[CV] END rf__max_depth=5, rf__n_estimators=5, svm__C=10, svm__gamma=0.1, voting=hard; total time=   1.5s\n",
      "[CV] END rf__max_depth=5, rf__n_estimators=5, svm__C=10, svm__gamma=0.1, voting=hard; total time=   1.4s\n",
      "[CV] END rf__max_depth=5, rf__n_estimators=5, svm__C=10, svm__gamma=0.1, voting=hard; total time=   1.4s\n",
      "[CV] END rf__max_depth=5, rf__n_estimators=5, svm__C=10, svm__gamma=0.3, voting=soft; total time=   1.4s\n",
      "[CV] END rf__max_depth=5, rf__n_estimators=5, svm__C=10, svm__gamma=0.3, voting=soft; total time=   2.1s\n",
      "[CV] END rf__max_depth=5, rf__n_estimators=5, svm__C=10, svm__gamma=0.3, voting=soft; total time=   2.4s\n",
      "[CV] END rf__max_depth=5, rf__n_estimators=5, svm__C=10, svm__gamma=0.3, voting=hard; total time=   2.3s\n",
      "[CV] END rf__max_depth=5, rf__n_estimators=5, svm__C=10, svm__gamma=0.3, voting=hard; total time=   1.5s\n",
      "[CV] END rf__max_depth=5, rf__n_estimators=5, svm__C=10, svm__gamma=0.3, voting=hard; total time=   1.4s\n",
      "[CV] END rf__max_depth=5, rf__n_estimators=5, svm__C=10, svm__gamma=0.5, voting=soft; total time=   1.5s\n",
      "[CV] END rf__max_depth=5, rf__n_estimators=5, svm__C=10, svm__gamma=0.5, voting=soft; total time=   1.5s\n",
      "[CV] END rf__max_depth=5, rf__n_estimators=5, svm__C=10, svm__gamma=0.5, voting=soft; total time=   1.5s\n",
      "[CV] END rf__max_depth=5, rf__n_estimators=5, svm__C=10, svm__gamma=0.5, voting=hard; total time=   0.4s\n",
      "[CV] END rf__max_depth=5, rf__n_estimators=5, svm__C=10, svm__gamma=0.5, voting=hard; total time=   0.4s\n",
      "[CV] END rf__max_depth=5, rf__n_estimators=5, svm__C=10, svm__gamma=0.5, voting=hard; total time=   0.3s\n",
      "[CV] END rf__max_depth=5, rf__n_estimators=10, svm__C=3, svm__gamma=0.1, voting=soft; total time=   0.3s\n",
      "[CV] END rf__max_depth=5, rf__n_estimators=10, svm__C=3, svm__gamma=0.1, voting=soft; total time=   0.4s\n",
      "[CV] END rf__max_depth=5, rf__n_estimators=10, svm__C=3, svm__gamma=0.1, voting=soft; total time=   0.4s\n",
      "[CV] END rf__max_depth=5, rf__n_estimators=10, svm__C=3, svm__gamma=0.1, voting=hard; total time=   0.4s\n",
      "[CV] END rf__max_depth=5, rf__n_estimators=10, svm__C=3, svm__gamma=0.1, voting=hard; total time=   0.4s\n",
      "[CV] END rf__max_depth=5, rf__n_estimators=10, svm__C=3, svm__gamma=0.1, voting=hard; total time=   0.4s\n",
      "[CV] END rf__max_depth=5, rf__n_estimators=10, svm__C=3, svm__gamma=0.3, voting=soft; total time=   0.4s\n",
      "[CV] END rf__max_depth=5, rf__n_estimators=10, svm__C=3, svm__gamma=0.3, voting=soft; total time=   0.4s\n",
      "[CV] END rf__max_depth=5, rf__n_estimators=10, svm__C=3, svm__gamma=0.3, voting=soft; total time=   0.4s\n",
      "[CV] END rf__max_depth=5, rf__n_estimators=10, svm__C=3, svm__gamma=0.3, voting=hard; total time=   0.3s\n",
      "[CV] END rf__max_depth=5, rf__n_estimators=10, svm__C=3, svm__gamma=0.3, voting=hard; total time=   0.3s\n",
      "[CV] END rf__max_depth=5, rf__n_estimators=10, svm__C=3, svm__gamma=0.3, voting=hard; total time=   0.3s\n",
      "[CV] END rf__max_depth=5, rf__n_estimators=10, svm__C=3, svm__gamma=0.5, voting=soft; total time=   0.3s\n",
      "[CV] END rf__max_depth=5, rf__n_estimators=10, svm__C=3, svm__gamma=0.5, voting=soft; total time=   0.4s\n",
      "[CV] END rf__max_depth=5, rf__n_estimators=10, svm__C=3, svm__gamma=0.5, voting=soft; total time=   0.3s\n",
      "[CV] END rf__max_depth=5, rf__n_estimators=10, svm__C=3, svm__gamma=0.5, voting=hard; total time=   0.4s\n",
      "[CV] END rf__max_depth=5, rf__n_estimators=10, svm__C=3, svm__gamma=0.5, voting=hard; total time=   0.3s\n",
      "[CV] END rf__max_depth=5, rf__n_estimators=10, svm__C=3, svm__gamma=0.5, voting=hard; total time=   0.4s\n",
      "[CV] END rf__max_depth=5, rf__n_estimators=10, svm__C=5, svm__gamma=0.1, voting=soft; total time=   0.3s\n",
      "[CV] END rf__max_depth=5, rf__n_estimators=10, svm__C=5, svm__gamma=0.1, voting=soft; total time=   0.4s\n",
      "[CV] END rf__max_depth=5, rf__n_estimators=10, svm__C=5, svm__gamma=0.1, voting=soft; total time=   0.4s\n",
      "[CV] END rf__max_depth=5, rf__n_estimators=10, svm__C=5, svm__gamma=0.1, voting=hard; total time=   0.3s\n",
      "[CV] END rf__max_depth=5, rf__n_estimators=10, svm__C=5, svm__gamma=0.1, voting=hard; total time=   0.4s\n",
      "[CV] END rf__max_depth=5, rf__n_estimators=10, svm__C=5, svm__gamma=0.1, voting=hard; total time=   0.3s\n",
      "[CV] END rf__max_depth=5, rf__n_estimators=10, svm__C=5, svm__gamma=0.3, voting=soft; total time=   0.3s\n",
      "[CV] END rf__max_depth=5, rf__n_estimators=10, svm__C=5, svm__gamma=0.3, voting=soft; total time=   0.4s\n"
     ]
    },
    {
     "name": "stdout",
     "output_type": "stream",
     "text": [
      "[CV] END rf__max_depth=5, rf__n_estimators=10, svm__C=5, svm__gamma=0.3, voting=soft; total time=   0.4s\n",
      "[CV] END rf__max_depth=5, rf__n_estimators=10, svm__C=5, svm__gamma=0.3, voting=hard; total time=   0.4s\n",
      "[CV] END rf__max_depth=5, rf__n_estimators=10, svm__C=5, svm__gamma=0.3, voting=hard; total time=   0.4s\n",
      "[CV] END rf__max_depth=5, rf__n_estimators=10, svm__C=5, svm__gamma=0.3, voting=hard; total time=   0.4s\n",
      "[CV] END rf__max_depth=5, rf__n_estimators=10, svm__C=5, svm__gamma=0.5, voting=soft; total time=   0.4s\n",
      "[CV] END rf__max_depth=5, rf__n_estimators=10, svm__C=5, svm__gamma=0.5, voting=soft; total time=   0.4s\n",
      "[CV] END rf__max_depth=5, rf__n_estimators=10, svm__C=5, svm__gamma=0.5, voting=soft; total time=   0.3s\n",
      "[CV] END rf__max_depth=5, rf__n_estimators=10, svm__C=5, svm__gamma=0.5, voting=hard; total time=   0.4s\n",
      "[CV] END rf__max_depth=5, rf__n_estimators=10, svm__C=5, svm__gamma=0.5, voting=hard; total time=   0.4s\n",
      "[CV] END rf__max_depth=5, rf__n_estimators=10, svm__C=5, svm__gamma=0.5, voting=hard; total time=   0.3s\n",
      "[CV] END rf__max_depth=5, rf__n_estimators=10, svm__C=7, svm__gamma=0.1, voting=soft; total time=   0.3s\n",
      "[CV] END rf__max_depth=5, rf__n_estimators=10, svm__C=7, svm__gamma=0.1, voting=soft; total time=   0.4s\n",
      "[CV] END rf__max_depth=5, rf__n_estimators=10, svm__C=7, svm__gamma=0.1, voting=soft; total time=   0.3s\n",
      "[CV] END rf__max_depth=5, rf__n_estimators=10, svm__C=7, svm__gamma=0.1, voting=hard; total time=   0.3s\n",
      "[CV] END rf__max_depth=5, rf__n_estimators=10, svm__C=7, svm__gamma=0.1, voting=hard; total time=   0.4s\n",
      "[CV] END rf__max_depth=5, rf__n_estimators=10, svm__C=7, svm__gamma=0.1, voting=hard; total time=   0.3s\n",
      "[CV] END rf__max_depth=5, rf__n_estimators=10, svm__C=7, svm__gamma=0.3, voting=soft; total time=   0.3s\n",
      "[CV] END rf__max_depth=5, rf__n_estimators=10, svm__C=7, svm__gamma=0.3, voting=soft; total time=   0.4s\n",
      "[CV] END rf__max_depth=5, rf__n_estimators=10, svm__C=7, svm__gamma=0.3, voting=soft; total time=   0.4s\n",
      "[CV] END rf__max_depth=5, rf__n_estimators=10, svm__C=7, svm__gamma=0.3, voting=hard; total time=   0.3s\n",
      "[CV] END rf__max_depth=5, rf__n_estimators=10, svm__C=7, svm__gamma=0.3, voting=hard; total time=   0.4s\n",
      "[CV] END rf__max_depth=5, rf__n_estimators=10, svm__C=7, svm__gamma=0.3, voting=hard; total time=   0.3s\n",
      "[CV] END rf__max_depth=5, rf__n_estimators=10, svm__C=7, svm__gamma=0.5, voting=soft; total time=   0.3s\n",
      "[CV] END rf__max_depth=5, rf__n_estimators=10, svm__C=7, svm__gamma=0.5, voting=soft; total time=   0.4s\n",
      "[CV] END rf__max_depth=5, rf__n_estimators=10, svm__C=7, svm__gamma=0.5, voting=soft; total time=   0.3s\n",
      "[CV] END rf__max_depth=5, rf__n_estimators=10, svm__C=7, svm__gamma=0.5, voting=hard; total time=   0.4s\n",
      "[CV] END rf__max_depth=5, rf__n_estimators=10, svm__C=7, svm__gamma=0.5, voting=hard; total time=   0.4s\n",
      "[CV] END rf__max_depth=5, rf__n_estimators=10, svm__C=7, svm__gamma=0.5, voting=hard; total time=   0.3s\n",
      "[CV] END rf__max_depth=5, rf__n_estimators=10, svm__C=10, svm__gamma=0.1, voting=soft; total time=   0.3s\n",
      "[CV] END rf__max_depth=5, rf__n_estimators=10, svm__C=10, svm__gamma=0.1, voting=soft; total time=   0.4s\n",
      "[CV] END rf__max_depth=5, rf__n_estimators=10, svm__C=10, svm__gamma=0.1, voting=soft; total time=   0.4s\n",
      "[CV] END rf__max_depth=5, rf__n_estimators=10, svm__C=10, svm__gamma=0.1, voting=hard; total time=   0.3s\n",
      "[CV] END rf__max_depth=5, rf__n_estimators=10, svm__C=10, svm__gamma=0.1, voting=hard; total time=   0.3s\n",
      "[CV] END rf__max_depth=5, rf__n_estimators=10, svm__C=10, svm__gamma=0.1, voting=hard; total time=   0.3s\n",
      "[CV] END rf__max_depth=5, rf__n_estimators=10, svm__C=10, svm__gamma=0.3, voting=soft; total time=   0.3s\n",
      "[CV] END rf__max_depth=5, rf__n_estimators=10, svm__C=10, svm__gamma=0.3, voting=soft; total time=   0.4s\n",
      "[CV] END rf__max_depth=5, rf__n_estimators=10, svm__C=10, svm__gamma=0.3, voting=soft; total time=   0.3s\n",
      "[CV] END rf__max_depth=5, rf__n_estimators=10, svm__C=10, svm__gamma=0.3, voting=hard; total time=   0.3s\n",
      "[CV] END rf__max_depth=5, rf__n_estimators=10, svm__C=10, svm__gamma=0.3, voting=hard; total time=   0.4s\n",
      "[CV] END rf__max_depth=5, rf__n_estimators=10, svm__C=10, svm__gamma=0.3, voting=hard; total time=   0.4s\n",
      "[CV] END rf__max_depth=5, rf__n_estimators=10, svm__C=10, svm__gamma=0.5, voting=soft; total time=   0.4s\n",
      "[CV] END rf__max_depth=5, rf__n_estimators=10, svm__C=10, svm__gamma=0.5, voting=soft; total time=   0.4s\n",
      "[CV] END rf__max_depth=5, rf__n_estimators=10, svm__C=10, svm__gamma=0.5, voting=soft; total time=   0.4s\n",
      "[CV] END rf__max_depth=5, rf__n_estimators=10, svm__C=10, svm__gamma=0.5, voting=hard; total time=   0.4s\n",
      "[CV] END rf__max_depth=5, rf__n_estimators=10, svm__C=10, svm__gamma=0.5, voting=hard; total time=   0.4s\n",
      "[CV] END rf__max_depth=5, rf__n_estimators=10, svm__C=10, svm__gamma=0.5, voting=hard; total time=   0.4s\n",
      "[CV] END rf__max_depth=5, rf__n_estimators=20, svm__C=3, svm__gamma=0.1, voting=soft; total time=   0.4s\n",
      "[CV] END rf__max_depth=5, rf__n_estimators=20, svm__C=3, svm__gamma=0.1, voting=soft; total time=   0.4s\n",
      "[CV] END rf__max_depth=5, rf__n_estimators=20, svm__C=3, svm__gamma=0.1, voting=soft; total time=   0.4s\n",
      "[CV] END rf__max_depth=5, rf__n_estimators=20, svm__C=3, svm__gamma=0.1, voting=hard; total time=   0.4s\n",
      "[CV] END rf__max_depth=5, rf__n_estimators=20, svm__C=3, svm__gamma=0.1, voting=hard; total time=   0.4s\n",
      "[CV] END rf__max_depth=5, rf__n_estimators=20, svm__C=3, svm__gamma=0.1, voting=hard; total time=   0.4s\n",
      "[CV] END rf__max_depth=5, rf__n_estimators=20, svm__C=3, svm__gamma=0.3, voting=soft; total time=   0.4s\n",
      "[CV] END rf__max_depth=5, rf__n_estimators=20, svm__C=3, svm__gamma=0.3, voting=soft; total time=   0.4s\n",
      "[CV] END rf__max_depth=5, rf__n_estimators=20, svm__C=3, svm__gamma=0.3, voting=soft; total time=   0.4s\n",
      "[CV] END rf__max_depth=5, rf__n_estimators=20, svm__C=3, svm__gamma=0.3, voting=hard; total time=   0.4s\n",
      "[CV] END rf__max_depth=5, rf__n_estimators=20, svm__C=3, svm__gamma=0.3, voting=hard; total time=   0.4s\n",
      "[CV] END rf__max_depth=5, rf__n_estimators=20, svm__C=3, svm__gamma=0.3, voting=hard; total time=   0.4s\n",
      "[CV] END rf__max_depth=5, rf__n_estimators=20, svm__C=3, svm__gamma=0.5, voting=soft; total time=   0.4s\n",
      "[CV] END rf__max_depth=5, rf__n_estimators=20, svm__C=3, svm__gamma=0.5, voting=soft; total time=   0.4s\n",
      "[CV] END rf__max_depth=5, rf__n_estimators=20, svm__C=3, svm__gamma=0.5, voting=soft; total time=   0.4s\n",
      "[CV] END rf__max_depth=5, rf__n_estimators=20, svm__C=3, svm__gamma=0.5, voting=hard; total time=   0.4s\n",
      "[CV] END rf__max_depth=5, rf__n_estimators=20, svm__C=3, svm__gamma=0.5, voting=hard; total time=   0.4s\n",
      "[CV] END rf__max_depth=5, rf__n_estimators=20, svm__C=3, svm__gamma=0.5, voting=hard; total time=   0.4s\n",
      "[CV] END rf__max_depth=5, rf__n_estimators=20, svm__C=5, svm__gamma=0.1, voting=soft; total time=   0.4s\n",
      "[CV] END rf__max_depth=5, rf__n_estimators=20, svm__C=5, svm__gamma=0.1, voting=soft; total time=   0.4s\n",
      "[CV] END rf__max_depth=5, rf__n_estimators=20, svm__C=5, svm__gamma=0.1, voting=soft; total time=   0.4s\n",
      "[CV] END rf__max_depth=5, rf__n_estimators=20, svm__C=5, svm__gamma=0.1, voting=hard; total time=   0.4s\n",
      "[CV] END rf__max_depth=5, rf__n_estimators=20, svm__C=5, svm__gamma=0.1, voting=hard; total time=   0.4s\n",
      "[CV] END rf__max_depth=5, rf__n_estimators=20, svm__C=5, svm__gamma=0.1, voting=hard; total time=   0.4s\n",
      "[CV] END rf__max_depth=5, rf__n_estimators=20, svm__C=5, svm__gamma=0.3, voting=soft; total time=   0.4s\n",
      "[CV] END rf__max_depth=5, rf__n_estimators=20, svm__C=5, svm__gamma=0.3, voting=soft; total time=   0.4s\n",
      "[CV] END rf__max_depth=5, rf__n_estimators=20, svm__C=5, svm__gamma=0.3, voting=soft; total time=   0.4s\n",
      "[CV] END rf__max_depth=5, rf__n_estimators=20, svm__C=5, svm__gamma=0.3, voting=hard; total time=   0.4s\n",
      "[CV] END rf__max_depth=5, rf__n_estimators=20, svm__C=5, svm__gamma=0.3, voting=hard; total time=   0.4s\n",
      "[CV] END rf__max_depth=5, rf__n_estimators=20, svm__C=5, svm__gamma=0.3, voting=hard; total time=   0.4s\n",
      "[CV] END rf__max_depth=5, rf__n_estimators=20, svm__C=5, svm__gamma=0.5, voting=soft; total time=   0.4s\n",
      "[CV] END rf__max_depth=5, rf__n_estimators=20, svm__C=5, svm__gamma=0.5, voting=soft; total time=   0.4s\n"
     ]
    },
    {
     "name": "stdout",
     "output_type": "stream",
     "text": [
      "[CV] END rf__max_depth=5, rf__n_estimators=20, svm__C=5, svm__gamma=0.5, voting=soft; total time=   0.4s\n",
      "[CV] END rf__max_depth=5, rf__n_estimators=20, svm__C=5, svm__gamma=0.5, voting=hard; total time=   0.4s\n",
      "[CV] END rf__max_depth=5, rf__n_estimators=20, svm__C=5, svm__gamma=0.5, voting=hard; total time=   0.4s\n",
      "[CV] END rf__max_depth=5, rf__n_estimators=20, svm__C=5, svm__gamma=0.5, voting=hard; total time=   0.4s\n",
      "[CV] END rf__max_depth=5, rf__n_estimators=20, svm__C=7, svm__gamma=0.1, voting=soft; total time=   0.4s\n",
      "[CV] END rf__max_depth=5, rf__n_estimators=20, svm__C=7, svm__gamma=0.1, voting=soft; total time=   0.4s\n",
      "[CV] END rf__max_depth=5, rf__n_estimators=20, svm__C=7, svm__gamma=0.1, voting=soft; total time=   0.4s\n",
      "[CV] END rf__max_depth=5, rf__n_estimators=20, svm__C=7, svm__gamma=0.1, voting=hard; total time=   0.4s\n",
      "[CV] END rf__max_depth=5, rf__n_estimators=20, svm__C=7, svm__gamma=0.1, voting=hard; total time=   0.4s\n",
      "[CV] END rf__max_depth=5, rf__n_estimators=20, svm__C=7, svm__gamma=0.1, voting=hard; total time=   0.4s\n",
      "[CV] END rf__max_depth=5, rf__n_estimators=20, svm__C=7, svm__gamma=0.3, voting=soft; total time=   0.4s\n",
      "[CV] END rf__max_depth=5, rf__n_estimators=20, svm__C=7, svm__gamma=0.3, voting=soft; total time=   0.4s\n",
      "[CV] END rf__max_depth=5, rf__n_estimators=20, svm__C=7, svm__gamma=0.3, voting=soft; total time=   0.4s\n",
      "[CV] END rf__max_depth=5, rf__n_estimators=20, svm__C=7, svm__gamma=0.3, voting=hard; total time=   0.4s\n",
      "[CV] END rf__max_depth=5, rf__n_estimators=20, svm__C=7, svm__gamma=0.3, voting=hard; total time=   0.4s\n",
      "[CV] END rf__max_depth=5, rf__n_estimators=20, svm__C=7, svm__gamma=0.3, voting=hard; total time=   0.4s\n",
      "[CV] END rf__max_depth=5, rf__n_estimators=20, svm__C=7, svm__gamma=0.5, voting=soft; total time=   0.4s\n",
      "[CV] END rf__max_depth=5, rf__n_estimators=20, svm__C=7, svm__gamma=0.5, voting=soft; total time=   0.4s\n",
      "[CV] END rf__max_depth=5, rf__n_estimators=20, svm__C=7, svm__gamma=0.5, voting=soft; total time=   0.4s\n",
      "[CV] END rf__max_depth=5, rf__n_estimators=20, svm__C=7, svm__gamma=0.5, voting=hard; total time=   0.4s\n",
      "[CV] END rf__max_depth=5, rf__n_estimators=20, svm__C=7, svm__gamma=0.5, voting=hard; total time=   0.4s\n",
      "[CV] END rf__max_depth=5, rf__n_estimators=20, svm__C=7, svm__gamma=0.5, voting=hard; total time=   0.4s\n",
      "[CV] END rf__max_depth=5, rf__n_estimators=20, svm__C=10, svm__gamma=0.1, voting=soft; total time=   0.4s\n",
      "[CV] END rf__max_depth=5, rf__n_estimators=20, svm__C=10, svm__gamma=0.1, voting=soft; total time=   0.4s\n",
      "[CV] END rf__max_depth=5, rf__n_estimators=20, svm__C=10, svm__gamma=0.1, voting=soft; total time=   0.4s\n",
      "[CV] END rf__max_depth=5, rf__n_estimators=20, svm__C=10, svm__gamma=0.1, voting=hard; total time=   0.4s\n",
      "[CV] END rf__max_depth=5, rf__n_estimators=20, svm__C=10, svm__gamma=0.1, voting=hard; total time=   0.4s\n",
      "[CV] END rf__max_depth=5, rf__n_estimators=20, svm__C=10, svm__gamma=0.1, voting=hard; total time=   0.4s\n",
      "[CV] END rf__max_depth=5, rf__n_estimators=20, svm__C=10, svm__gamma=0.3, voting=soft; total time=   0.4s\n",
      "[CV] END rf__max_depth=5, rf__n_estimators=20, svm__C=10, svm__gamma=0.3, voting=soft; total time=   0.4s\n",
      "[CV] END rf__max_depth=5, rf__n_estimators=20, svm__C=10, svm__gamma=0.3, voting=soft; total time=   0.4s\n",
      "[CV] END rf__max_depth=5, rf__n_estimators=20, svm__C=10, svm__gamma=0.3, voting=hard; total time=   0.4s\n",
      "[CV] END rf__max_depth=5, rf__n_estimators=20, svm__C=10, svm__gamma=0.3, voting=hard; total time=   0.4s\n",
      "[CV] END rf__max_depth=5, rf__n_estimators=20, svm__C=10, svm__gamma=0.3, voting=hard; total time=   0.4s\n",
      "[CV] END rf__max_depth=5, rf__n_estimators=20, svm__C=10, svm__gamma=0.5, voting=soft; total time=   0.4s\n",
      "[CV] END rf__max_depth=5, rf__n_estimators=20, svm__C=10, svm__gamma=0.5, voting=soft; total time=   0.4s\n",
      "[CV] END rf__max_depth=5, rf__n_estimators=20, svm__C=10, svm__gamma=0.5, voting=soft; total time=   0.4s\n",
      "[CV] END rf__max_depth=5, rf__n_estimators=20, svm__C=10, svm__gamma=0.5, voting=hard; total time=   0.4s\n",
      "[CV] END rf__max_depth=5, rf__n_estimators=20, svm__C=10, svm__gamma=0.5, voting=hard; total time=   0.4s\n",
      "[CV] END rf__max_depth=5, rf__n_estimators=20, svm__C=10, svm__gamma=0.5, voting=hard; total time=   0.4s\n",
      "[CV] END rf__max_depth=7, rf__n_estimators=5, svm__C=3, svm__gamma=0.1, voting=soft; total time=   0.3s\n",
      "[CV] END rf__max_depth=7, rf__n_estimators=5, svm__C=3, svm__gamma=0.1, voting=soft; total time=   0.4s\n",
      "[CV] END rf__max_depth=7, rf__n_estimators=5, svm__C=3, svm__gamma=0.1, voting=soft; total time=   0.3s\n",
      "[CV] END rf__max_depth=7, rf__n_estimators=5, svm__C=3, svm__gamma=0.1, voting=hard; total time=   0.3s\n",
      "[CV] END rf__max_depth=7, rf__n_estimators=5, svm__C=3, svm__gamma=0.1, voting=hard; total time=   0.4s\n",
      "[CV] END rf__max_depth=7, rf__n_estimators=5, svm__C=3, svm__gamma=0.1, voting=hard; total time=   0.3s\n",
      "[CV] END rf__max_depth=7, rf__n_estimators=5, svm__C=3, svm__gamma=0.3, voting=soft; total time=   0.4s\n",
      "[CV] END rf__max_depth=7, rf__n_estimators=5, svm__C=3, svm__gamma=0.3, voting=soft; total time=   0.3s\n",
      "[CV] END rf__max_depth=7, rf__n_estimators=5, svm__C=3, svm__gamma=0.3, voting=soft; total time=   0.3s\n",
      "[CV] END rf__max_depth=7, rf__n_estimators=5, svm__C=3, svm__gamma=0.3, voting=hard; total time=   0.3s\n",
      "[CV] END rf__max_depth=7, rf__n_estimators=5, svm__C=3, svm__gamma=0.3, voting=hard; total time=   0.3s\n",
      "[CV] END rf__max_depth=7, rf__n_estimators=5, svm__C=3, svm__gamma=0.3, voting=hard; total time=   0.3s\n",
      "[CV] END rf__max_depth=7, rf__n_estimators=5, svm__C=3, svm__gamma=0.5, voting=soft; total time=   0.3s\n",
      "[CV] END rf__max_depth=7, rf__n_estimators=5, svm__C=3, svm__gamma=0.5, voting=soft; total time=   0.3s\n",
      "[CV] END rf__max_depth=7, rf__n_estimators=5, svm__C=3, svm__gamma=0.5, voting=soft; total time=   0.3s\n",
      "[CV] END rf__max_depth=7, rf__n_estimators=5, svm__C=3, svm__gamma=0.5, voting=hard; total time=   0.3s\n",
      "[CV] END rf__max_depth=7, rf__n_estimators=5, svm__C=3, svm__gamma=0.5, voting=hard; total time=   0.3s\n",
      "[CV] END rf__max_depth=7, rf__n_estimators=5, svm__C=3, svm__gamma=0.5, voting=hard; total time=   0.3s\n",
      "[CV] END rf__max_depth=7, rf__n_estimators=5, svm__C=5, svm__gamma=0.1, voting=soft; total time=   0.3s\n",
      "[CV] END rf__max_depth=7, rf__n_estimators=5, svm__C=5, svm__gamma=0.1, voting=soft; total time=   0.3s\n",
      "[CV] END rf__max_depth=7, rf__n_estimators=5, svm__C=5, svm__gamma=0.1, voting=soft; total time=   0.3s\n",
      "[CV] END rf__max_depth=7, rf__n_estimators=5, svm__C=5, svm__gamma=0.1, voting=hard; total time=   0.3s\n",
      "[CV] END rf__max_depth=7, rf__n_estimators=5, svm__C=5, svm__gamma=0.1, voting=hard; total time=   0.3s\n",
      "[CV] END rf__max_depth=7, rf__n_estimators=5, svm__C=5, svm__gamma=0.1, voting=hard; total time=   0.3s\n",
      "[CV] END rf__max_depth=7, rf__n_estimators=5, svm__C=5, svm__gamma=0.3, voting=soft; total time=   0.3s\n",
      "[CV] END rf__max_depth=7, rf__n_estimators=5, svm__C=5, svm__gamma=0.3, voting=soft; total time=   0.3s\n",
      "[CV] END rf__max_depth=7, rf__n_estimators=5, svm__C=5, svm__gamma=0.3, voting=soft; total time=   0.3s\n",
      "[CV] END rf__max_depth=7, rf__n_estimators=5, svm__C=5, svm__gamma=0.3, voting=hard; total time=   0.3s\n",
      "[CV] END rf__max_depth=7, rf__n_estimators=5, svm__C=5, svm__gamma=0.3, voting=hard; total time=   0.3s\n",
      "[CV] END rf__max_depth=7, rf__n_estimators=5, svm__C=5, svm__gamma=0.3, voting=hard; total time=   0.3s\n",
      "[CV] END rf__max_depth=7, rf__n_estimators=5, svm__C=5, svm__gamma=0.5, voting=soft; total time=   0.3s\n",
      "[CV] END rf__max_depth=7, rf__n_estimators=5, svm__C=5, svm__gamma=0.5, voting=soft; total time=   0.4s\n",
      "[CV] END rf__max_depth=7, rf__n_estimators=5, svm__C=5, svm__gamma=0.5, voting=soft; total time=   0.3s\n",
      "[CV] END rf__max_depth=7, rf__n_estimators=5, svm__C=5, svm__gamma=0.5, voting=hard; total time=   0.3s\n",
      "[CV] END rf__max_depth=7, rf__n_estimators=5, svm__C=5, svm__gamma=0.5, voting=hard; total time=   0.3s\n",
      "[CV] END rf__max_depth=7, rf__n_estimators=5, svm__C=5, svm__gamma=0.5, voting=hard; total time=   0.3s\n",
      "[CV] END rf__max_depth=7, rf__n_estimators=5, svm__C=7, svm__gamma=0.1, voting=soft; total time=   0.4s\n",
      "[CV] END rf__max_depth=7, rf__n_estimators=5, svm__C=7, svm__gamma=0.1, voting=soft; total time=   0.3s\n",
      "[CV] END rf__max_depth=7, rf__n_estimators=5, svm__C=7, svm__gamma=0.1, voting=soft; total time=   0.3s\n"
     ]
    },
    {
     "name": "stdout",
     "output_type": "stream",
     "text": [
      "[CV] END rf__max_depth=7, rf__n_estimators=5, svm__C=7, svm__gamma=0.1, voting=hard; total time=   0.3s\n",
      "[CV] END rf__max_depth=7, rf__n_estimators=5, svm__C=7, svm__gamma=0.1, voting=hard; total time=   0.3s\n",
      "[CV] END rf__max_depth=7, rf__n_estimators=5, svm__C=7, svm__gamma=0.1, voting=hard; total time=   0.3s\n",
      "[CV] END rf__max_depth=7, rf__n_estimators=5, svm__C=7, svm__gamma=0.3, voting=soft; total time=   0.3s\n",
      "[CV] END rf__max_depth=7, rf__n_estimators=5, svm__C=7, svm__gamma=0.3, voting=soft; total time=   0.4s\n",
      "[CV] END rf__max_depth=7, rf__n_estimators=5, svm__C=7, svm__gamma=0.3, voting=soft; total time=   0.3s\n",
      "[CV] END rf__max_depth=7, rf__n_estimators=5, svm__C=7, svm__gamma=0.3, voting=hard; total time=   0.3s\n",
      "[CV] END rf__max_depth=7, rf__n_estimators=5, svm__C=7, svm__gamma=0.3, voting=hard; total time=   0.3s\n",
      "[CV] END rf__max_depth=7, rf__n_estimators=5, svm__C=7, svm__gamma=0.3, voting=hard; total time=   0.3s\n",
      "[CV] END rf__max_depth=7, rf__n_estimators=5, svm__C=7, svm__gamma=0.5, voting=soft; total time=   0.3s\n",
      "[CV] END rf__max_depth=7, rf__n_estimators=5, svm__C=7, svm__gamma=0.5, voting=soft; total time=   0.3s\n",
      "[CV] END rf__max_depth=7, rf__n_estimators=5, svm__C=7, svm__gamma=0.5, voting=soft; total time=   0.4s\n",
      "[CV] END rf__max_depth=7, rf__n_estimators=5, svm__C=7, svm__gamma=0.5, voting=hard; total time=   0.3s\n",
      "[CV] END rf__max_depth=7, rf__n_estimators=5, svm__C=7, svm__gamma=0.5, voting=hard; total time=   0.3s\n",
      "[CV] END rf__max_depth=7, rf__n_estimators=5, svm__C=7, svm__gamma=0.5, voting=hard; total time=   0.4s\n",
      "[CV] END rf__max_depth=7, rf__n_estimators=5, svm__C=10, svm__gamma=0.1, voting=soft; total time=   0.3s\n",
      "[CV] END rf__max_depth=7, rf__n_estimators=5, svm__C=10, svm__gamma=0.1, voting=soft; total time=   0.3s\n",
      "[CV] END rf__max_depth=7, rf__n_estimators=5, svm__C=10, svm__gamma=0.1, voting=soft; total time=   0.3s\n",
      "[CV] END rf__max_depth=7, rf__n_estimators=5, svm__C=10, svm__gamma=0.1, voting=hard; total time=   0.4s\n",
      "[CV] END rf__max_depth=7, rf__n_estimators=5, svm__C=10, svm__gamma=0.1, voting=hard; total time=   0.3s\n",
      "[CV] END rf__max_depth=7, rf__n_estimators=5, svm__C=10, svm__gamma=0.1, voting=hard; total time=   0.3s\n",
      "[CV] END rf__max_depth=7, rf__n_estimators=5, svm__C=10, svm__gamma=0.3, voting=soft; total time=   0.3s\n",
      "[CV] END rf__max_depth=7, rf__n_estimators=5, svm__C=10, svm__gamma=0.3, voting=soft; total time=   0.4s\n",
      "[CV] END rf__max_depth=7, rf__n_estimators=5, svm__C=10, svm__gamma=0.3, voting=soft; total time=   0.3s\n",
      "[CV] END rf__max_depth=7, rf__n_estimators=5, svm__C=10, svm__gamma=0.3, voting=hard; total time=   0.3s\n",
      "[CV] END rf__max_depth=7, rf__n_estimators=5, svm__C=10, svm__gamma=0.3, voting=hard; total time=   0.3s\n",
      "[CV] END rf__max_depth=7, rf__n_estimators=5, svm__C=10, svm__gamma=0.3, voting=hard; total time=   0.3s\n",
      "[CV] END rf__max_depth=7, rf__n_estimators=5, svm__C=10, svm__gamma=0.5, voting=soft; total time=   0.3s\n",
      "[CV] END rf__max_depth=7, rf__n_estimators=5, svm__C=10, svm__gamma=0.5, voting=soft; total time=   0.3s\n",
      "[CV] END rf__max_depth=7, rf__n_estimators=5, svm__C=10, svm__gamma=0.5, voting=soft; total time=   0.3s\n",
      "[CV] END rf__max_depth=7, rf__n_estimators=5, svm__C=10, svm__gamma=0.5, voting=hard; total time=   0.4s\n",
      "[CV] END rf__max_depth=7, rf__n_estimators=5, svm__C=10, svm__gamma=0.5, voting=hard; total time=   0.4s\n",
      "[CV] END rf__max_depth=7, rf__n_estimators=5, svm__C=10, svm__gamma=0.5, voting=hard; total time=   0.3s\n",
      "[CV] END rf__max_depth=7, rf__n_estimators=10, svm__C=3, svm__gamma=0.1, voting=soft; total time=   0.4s\n",
      "[CV] END rf__max_depth=7, rf__n_estimators=10, svm__C=3, svm__gamma=0.1, voting=soft; total time=   0.3s\n",
      "[CV] END rf__max_depth=7, rf__n_estimators=10, svm__C=3, svm__gamma=0.1, voting=soft; total time=   0.4s\n",
      "[CV] END rf__max_depth=7, rf__n_estimators=10, svm__C=3, svm__gamma=0.1, voting=hard; total time=   0.4s\n",
      "[CV] END rf__max_depth=7, rf__n_estimators=10, svm__C=3, svm__gamma=0.1, voting=hard; total time=   0.4s\n",
      "[CV] END rf__max_depth=7, rf__n_estimators=10, svm__C=3, svm__gamma=0.1, voting=hard; total time=   0.4s\n",
      "[CV] END rf__max_depth=7, rf__n_estimators=10, svm__C=3, svm__gamma=0.3, voting=soft; total time=   0.4s\n",
      "[CV] END rf__max_depth=7, rf__n_estimators=10, svm__C=3, svm__gamma=0.3, voting=soft; total time=   0.4s\n",
      "[CV] END rf__max_depth=7, rf__n_estimators=10, svm__C=3, svm__gamma=0.3, voting=soft; total time=   0.4s\n",
      "[CV] END rf__max_depth=7, rf__n_estimators=10, svm__C=3, svm__gamma=0.3, voting=hard; total time=   0.4s\n",
      "[CV] END rf__max_depth=7, rf__n_estimators=10, svm__C=3, svm__gamma=0.3, voting=hard; total time=   0.3s\n",
      "[CV] END rf__max_depth=7, rf__n_estimators=10, svm__C=3, svm__gamma=0.3, voting=hard; total time=   0.4s\n",
      "[CV] END rf__max_depth=7, rf__n_estimators=10, svm__C=3, svm__gamma=0.5, voting=soft; total time=   0.4s\n",
      "[CV] END rf__max_depth=7, rf__n_estimators=10, svm__C=3, svm__gamma=0.5, voting=soft; total time=   0.4s\n",
      "[CV] END rf__max_depth=7, rf__n_estimators=10, svm__C=3, svm__gamma=0.5, voting=soft; total time=   0.3s\n",
      "[CV] END rf__max_depth=7, rf__n_estimators=10, svm__C=3, svm__gamma=0.5, voting=hard; total time=   0.3s\n",
      "[CV] END rf__max_depth=7, rf__n_estimators=10, svm__C=3, svm__gamma=0.5, voting=hard; total time=   0.4s\n",
      "[CV] END rf__max_depth=7, rf__n_estimators=10, svm__C=3, svm__gamma=0.5, voting=hard; total time=   0.4s\n",
      "[CV] END rf__max_depth=7, rf__n_estimators=10, svm__C=5, svm__gamma=0.1, voting=soft; total time=   0.4s\n",
      "[CV] END rf__max_depth=7, rf__n_estimators=10, svm__C=5, svm__gamma=0.1, voting=soft; total time=   0.3s\n",
      "[CV] END rf__max_depth=7, rf__n_estimators=10, svm__C=5, svm__gamma=0.1, voting=soft; total time=   0.3s\n",
      "[CV] END rf__max_depth=7, rf__n_estimators=10, svm__C=5, svm__gamma=0.1, voting=hard; total time=   0.3s\n",
      "[CV] END rf__max_depth=7, rf__n_estimators=10, svm__C=5, svm__gamma=0.1, voting=hard; total time=   0.4s\n",
      "[CV] END rf__max_depth=7, rf__n_estimators=10, svm__C=5, svm__gamma=0.1, voting=hard; total time=   0.3s\n",
      "[CV] END rf__max_depth=7, rf__n_estimators=10, svm__C=5, svm__gamma=0.3, voting=soft; total time=   0.3s\n",
      "[CV] END rf__max_depth=7, rf__n_estimators=10, svm__C=5, svm__gamma=0.3, voting=soft; total time=   0.3s\n",
      "[CV] END rf__max_depth=7, rf__n_estimators=10, svm__C=5, svm__gamma=0.3, voting=soft; total time=   0.4s\n",
      "[CV] END rf__max_depth=7, rf__n_estimators=10, svm__C=5, svm__gamma=0.3, voting=hard; total time=   0.3s\n",
      "[CV] END rf__max_depth=7, rf__n_estimators=10, svm__C=5, svm__gamma=0.3, voting=hard; total time=   0.4s\n",
      "[CV] END rf__max_depth=7, rf__n_estimators=10, svm__C=5, svm__gamma=0.3, voting=hard; total time=   0.3s\n",
      "[CV] END rf__max_depth=7, rf__n_estimators=10, svm__C=5, svm__gamma=0.5, voting=soft; total time=   0.4s\n",
      "[CV] END rf__max_depth=7, rf__n_estimators=10, svm__C=5, svm__gamma=0.5, voting=soft; total time=   0.4s\n",
      "[CV] END rf__max_depth=7, rf__n_estimators=10, svm__C=5, svm__gamma=0.5, voting=soft; total time=   0.4s\n",
      "[CV] END rf__max_depth=7, rf__n_estimators=10, svm__C=5, svm__gamma=0.5, voting=hard; total time=   0.4s\n",
      "[CV] END rf__max_depth=7, rf__n_estimators=10, svm__C=5, svm__gamma=0.5, voting=hard; total time=   0.4s\n",
      "[CV] END rf__max_depth=7, rf__n_estimators=10, svm__C=5, svm__gamma=0.5, voting=hard; total time=   0.4s\n",
      "[CV] END rf__max_depth=7, rf__n_estimators=10, svm__C=7, svm__gamma=0.1, voting=soft; total time=   0.3s\n",
      "[CV] END rf__max_depth=7, rf__n_estimators=10, svm__C=7, svm__gamma=0.1, voting=soft; total time=   0.4s\n",
      "[CV] END rf__max_depth=7, rf__n_estimators=10, svm__C=7, svm__gamma=0.1, voting=soft; total time=   0.3s\n",
      "[CV] END rf__max_depth=7, rf__n_estimators=10, svm__C=7, svm__gamma=0.1, voting=hard; total time=   0.3s\n",
      "[CV] END rf__max_depth=7, rf__n_estimators=10, svm__C=7, svm__gamma=0.1, voting=hard; total time=   0.4s\n",
      "[CV] END rf__max_depth=7, rf__n_estimators=10, svm__C=7, svm__gamma=0.1, voting=hard; total time=   0.3s\n",
      "[CV] END rf__max_depth=7, rf__n_estimators=10, svm__C=7, svm__gamma=0.3, voting=soft; total time=   0.4s\n",
      "[CV] END rf__max_depth=7, rf__n_estimators=10, svm__C=7, svm__gamma=0.3, voting=soft; total time=   0.3s\n",
      "[CV] END rf__max_depth=7, rf__n_estimators=10, svm__C=7, svm__gamma=0.3, voting=soft; total time=   0.3s\n",
      "[CV] END rf__max_depth=7, rf__n_estimators=10, svm__C=7, svm__gamma=0.3, voting=hard; total time=   0.4s\n"
     ]
    },
    {
     "name": "stdout",
     "output_type": "stream",
     "text": [
      "[CV] END rf__max_depth=7, rf__n_estimators=10, svm__C=7, svm__gamma=0.3, voting=hard; total time=   0.4s\n",
      "[CV] END rf__max_depth=7, rf__n_estimators=10, svm__C=7, svm__gamma=0.3, voting=hard; total time=   0.3s\n",
      "[CV] END rf__max_depth=7, rf__n_estimators=10, svm__C=7, svm__gamma=0.5, voting=soft; total time=   0.4s\n",
      "[CV] END rf__max_depth=7, rf__n_estimators=10, svm__C=7, svm__gamma=0.5, voting=soft; total time=   0.4s\n",
      "[CV] END rf__max_depth=7, rf__n_estimators=10, svm__C=7, svm__gamma=0.5, voting=soft; total time=   0.4s\n",
      "[CV] END rf__max_depth=7, rf__n_estimators=10, svm__C=7, svm__gamma=0.5, voting=hard; total time=   0.4s\n",
      "[CV] END rf__max_depth=7, rf__n_estimators=10, svm__C=7, svm__gamma=0.5, voting=hard; total time=   0.4s\n",
      "[CV] END rf__max_depth=7, rf__n_estimators=10, svm__C=7, svm__gamma=0.5, voting=hard; total time=   0.4s\n",
      "[CV] END rf__max_depth=7, rf__n_estimators=10, svm__C=10, svm__gamma=0.1, voting=soft; total time=   0.3s\n",
      "[CV] END rf__max_depth=7, rf__n_estimators=10, svm__C=10, svm__gamma=0.1, voting=soft; total time=   0.4s\n",
      "[CV] END rf__max_depth=7, rf__n_estimators=10, svm__C=10, svm__gamma=0.1, voting=soft; total time=   0.3s\n",
      "[CV] END rf__max_depth=7, rf__n_estimators=10, svm__C=10, svm__gamma=0.1, voting=hard; total time=   0.4s\n",
      "[CV] END rf__max_depth=7, rf__n_estimators=10, svm__C=10, svm__gamma=0.1, voting=hard; total time=   0.4s\n",
      "[CV] END rf__max_depth=7, rf__n_estimators=10, svm__C=10, svm__gamma=0.1, voting=hard; total time=   0.4s\n",
      "[CV] END rf__max_depth=7, rf__n_estimators=10, svm__C=10, svm__gamma=0.3, voting=soft; total time=   0.4s\n",
      "[CV] END rf__max_depth=7, rf__n_estimators=10, svm__C=10, svm__gamma=0.3, voting=soft; total time=   0.4s\n",
      "[CV] END rf__max_depth=7, rf__n_estimators=10, svm__C=10, svm__gamma=0.3, voting=soft; total time=   0.4s\n",
      "[CV] END rf__max_depth=7, rf__n_estimators=10, svm__C=10, svm__gamma=0.3, voting=hard; total time=   0.4s\n",
      "[CV] END rf__max_depth=7, rf__n_estimators=10, svm__C=10, svm__gamma=0.3, voting=hard; total time=   0.4s\n",
      "[CV] END rf__max_depth=7, rf__n_estimators=10, svm__C=10, svm__gamma=0.3, voting=hard; total time=   0.4s\n",
      "[CV] END rf__max_depth=7, rf__n_estimators=10, svm__C=10, svm__gamma=0.5, voting=soft; total time=   0.4s\n",
      "[CV] END rf__max_depth=7, rf__n_estimators=10, svm__C=10, svm__gamma=0.5, voting=soft; total time=   0.4s\n",
      "[CV] END rf__max_depth=7, rf__n_estimators=10, svm__C=10, svm__gamma=0.5, voting=soft; total time=   0.4s\n",
      "[CV] END rf__max_depth=7, rf__n_estimators=10, svm__C=10, svm__gamma=0.5, voting=hard; total time=   0.4s\n",
      "[CV] END rf__max_depth=7, rf__n_estimators=10, svm__C=10, svm__gamma=0.5, voting=hard; total time=   0.4s\n",
      "[CV] END rf__max_depth=7, rf__n_estimators=10, svm__C=10, svm__gamma=0.5, voting=hard; total time=   0.4s\n",
      "[CV] END rf__max_depth=7, rf__n_estimators=20, svm__C=3, svm__gamma=0.1, voting=soft; total time=   0.4s\n",
      "[CV] END rf__max_depth=7, rf__n_estimators=20, svm__C=3, svm__gamma=0.1, voting=soft; total time=   0.4s\n",
      "[CV] END rf__max_depth=7, rf__n_estimators=20, svm__C=3, svm__gamma=0.1, voting=soft; total time=   0.4s\n",
      "[CV] END rf__max_depth=7, rf__n_estimators=20, svm__C=3, svm__gamma=0.1, voting=hard; total time=   0.4s\n",
      "[CV] END rf__max_depth=7, rf__n_estimators=20, svm__C=3, svm__gamma=0.1, voting=hard; total time=   0.4s\n",
      "[CV] END rf__max_depth=7, rf__n_estimators=20, svm__C=3, svm__gamma=0.1, voting=hard; total time=   0.4s\n",
      "[CV] END rf__max_depth=7, rf__n_estimators=20, svm__C=3, svm__gamma=0.3, voting=soft; total time=   0.4s\n",
      "[CV] END rf__max_depth=7, rf__n_estimators=20, svm__C=3, svm__gamma=0.3, voting=soft; total time=   0.4s\n",
      "[CV] END rf__max_depth=7, rf__n_estimators=20, svm__C=3, svm__gamma=0.3, voting=soft; total time=   0.4s\n",
      "[CV] END rf__max_depth=7, rf__n_estimators=20, svm__C=3, svm__gamma=0.3, voting=hard; total time=   0.4s\n",
      "[CV] END rf__max_depth=7, rf__n_estimators=20, svm__C=3, svm__gamma=0.3, voting=hard; total time=   0.4s\n",
      "[CV] END rf__max_depth=7, rf__n_estimators=20, svm__C=3, svm__gamma=0.3, voting=hard; total time=   0.4s\n",
      "[CV] END rf__max_depth=7, rf__n_estimators=20, svm__C=3, svm__gamma=0.5, voting=soft; total time=   0.4s\n",
      "[CV] END rf__max_depth=7, rf__n_estimators=20, svm__C=3, svm__gamma=0.5, voting=soft; total time=   0.4s\n",
      "[CV] END rf__max_depth=7, rf__n_estimators=20, svm__C=3, svm__gamma=0.5, voting=soft; total time=   0.4s\n",
      "[CV] END rf__max_depth=7, rf__n_estimators=20, svm__C=3, svm__gamma=0.5, voting=hard; total time=   0.4s\n",
      "[CV] END rf__max_depth=7, rf__n_estimators=20, svm__C=3, svm__gamma=0.5, voting=hard; total time=   0.4s\n",
      "[CV] END rf__max_depth=7, rf__n_estimators=20, svm__C=3, svm__gamma=0.5, voting=hard; total time=   0.4s\n",
      "[CV] END rf__max_depth=7, rf__n_estimators=20, svm__C=5, svm__gamma=0.1, voting=soft; total time=   0.4s\n",
      "[CV] END rf__max_depth=7, rf__n_estimators=20, svm__C=5, svm__gamma=0.1, voting=soft; total time=   0.4s\n",
      "[CV] END rf__max_depth=7, rf__n_estimators=20, svm__C=5, svm__gamma=0.1, voting=soft; total time=   0.4s\n",
      "[CV] END rf__max_depth=7, rf__n_estimators=20, svm__C=5, svm__gamma=0.1, voting=hard; total time=   0.4s\n",
      "[CV] END rf__max_depth=7, rf__n_estimators=20, svm__C=5, svm__gamma=0.1, voting=hard; total time=   0.4s\n",
      "[CV] END rf__max_depth=7, rf__n_estimators=20, svm__C=5, svm__gamma=0.1, voting=hard; total time=   0.4s\n",
      "[CV] END rf__max_depth=7, rf__n_estimators=20, svm__C=5, svm__gamma=0.3, voting=soft; total time=   0.4s\n",
      "[CV] END rf__max_depth=7, rf__n_estimators=20, svm__C=5, svm__gamma=0.3, voting=soft; total time=   0.4s\n",
      "[CV] END rf__max_depth=7, rf__n_estimators=20, svm__C=5, svm__gamma=0.3, voting=soft; total time=   0.4s\n",
      "[CV] END rf__max_depth=7, rf__n_estimators=20, svm__C=5, svm__gamma=0.3, voting=hard; total time=   0.4s\n",
      "[CV] END rf__max_depth=7, rf__n_estimators=20, svm__C=5, svm__gamma=0.3, voting=hard; total time=   0.4s\n",
      "[CV] END rf__max_depth=7, rf__n_estimators=20, svm__C=5, svm__gamma=0.3, voting=hard; total time=   0.4s\n",
      "[CV] END rf__max_depth=7, rf__n_estimators=20, svm__C=5, svm__gamma=0.5, voting=soft; total time=   0.4s\n",
      "[CV] END rf__max_depth=7, rf__n_estimators=20, svm__C=5, svm__gamma=0.5, voting=soft; total time=   0.4s\n",
      "[CV] END rf__max_depth=7, rf__n_estimators=20, svm__C=5, svm__gamma=0.5, voting=soft; total time=   0.4s\n",
      "[CV] END rf__max_depth=7, rf__n_estimators=20, svm__C=5, svm__gamma=0.5, voting=hard; total time=   0.4s\n",
      "[CV] END rf__max_depth=7, rf__n_estimators=20, svm__C=5, svm__gamma=0.5, voting=hard; total time=   0.4s\n",
      "[CV] END rf__max_depth=7, rf__n_estimators=20, svm__C=5, svm__gamma=0.5, voting=hard; total time=   0.4s\n",
      "[CV] END rf__max_depth=7, rf__n_estimators=20, svm__C=7, svm__gamma=0.1, voting=soft; total time=   0.4s\n",
      "[CV] END rf__max_depth=7, rf__n_estimators=20, svm__C=7, svm__gamma=0.1, voting=soft; total time=   0.4s\n",
      "[CV] END rf__max_depth=7, rf__n_estimators=20, svm__C=7, svm__gamma=0.1, voting=soft; total time=   0.4s\n",
      "[CV] END rf__max_depth=7, rf__n_estimators=20, svm__C=7, svm__gamma=0.1, voting=hard; total time=   0.4s\n",
      "[CV] END rf__max_depth=7, rf__n_estimators=20, svm__C=7, svm__gamma=0.1, voting=hard; total time=   0.4s\n",
      "[CV] END rf__max_depth=7, rf__n_estimators=20, svm__C=7, svm__gamma=0.1, voting=hard; total time=   0.4s\n",
      "[CV] END rf__max_depth=7, rf__n_estimators=20, svm__C=7, svm__gamma=0.3, voting=soft; total time=   0.4s\n",
      "[CV] END rf__max_depth=7, rf__n_estimators=20, svm__C=7, svm__gamma=0.3, voting=soft; total time=   0.4s\n",
      "[CV] END rf__max_depth=7, rf__n_estimators=20, svm__C=7, svm__gamma=0.3, voting=soft; total time=   0.4s\n",
      "[CV] END rf__max_depth=7, rf__n_estimators=20, svm__C=7, svm__gamma=0.3, voting=hard; total time=   0.4s\n",
      "[CV] END rf__max_depth=7, rf__n_estimators=20, svm__C=7, svm__gamma=0.3, voting=hard; total time=   0.4s\n",
      "[CV] END rf__max_depth=7, rf__n_estimators=20, svm__C=7, svm__gamma=0.3, voting=hard; total time=   0.4s\n",
      "[CV] END rf__max_depth=7, rf__n_estimators=20, svm__C=7, svm__gamma=0.5, voting=soft; total time=   0.4s\n",
      "[CV] END rf__max_depth=7, rf__n_estimators=20, svm__C=7, svm__gamma=0.5, voting=soft; total time=   0.4s\n",
      "[CV] END rf__max_depth=7, rf__n_estimators=20, svm__C=7, svm__gamma=0.5, voting=soft; total time=   0.4s\n",
      "[CV] END rf__max_depth=7, rf__n_estimators=20, svm__C=7, svm__gamma=0.5, voting=hard; total time=   0.4s\n"
     ]
    },
    {
     "name": "stdout",
     "output_type": "stream",
     "text": [
      "[CV] END rf__max_depth=7, rf__n_estimators=20, svm__C=7, svm__gamma=0.5, voting=hard; total time=   0.4s\n",
      "[CV] END rf__max_depth=7, rf__n_estimators=20, svm__C=7, svm__gamma=0.5, voting=hard; total time=   0.4s\n",
      "[CV] END rf__max_depth=7, rf__n_estimators=20, svm__C=10, svm__gamma=0.1, voting=soft; total time=   0.4s\n",
      "[CV] END rf__max_depth=7, rf__n_estimators=20, svm__C=10, svm__gamma=0.1, voting=soft; total time=   0.4s\n",
      "[CV] END rf__max_depth=7, rf__n_estimators=20, svm__C=10, svm__gamma=0.1, voting=soft; total time=   0.4s\n",
      "[CV] END rf__max_depth=7, rf__n_estimators=20, svm__C=10, svm__gamma=0.1, voting=hard; total time=   0.4s\n",
      "[CV] END rf__max_depth=7, rf__n_estimators=20, svm__C=10, svm__gamma=0.1, voting=hard; total time=   0.4s\n",
      "[CV] END rf__max_depth=7, rf__n_estimators=20, svm__C=10, svm__gamma=0.1, voting=hard; total time=   0.4s\n",
      "[CV] END rf__max_depth=7, rf__n_estimators=20, svm__C=10, svm__gamma=0.3, voting=soft; total time=   0.4s\n",
      "[CV] END rf__max_depth=7, rf__n_estimators=20, svm__C=10, svm__gamma=0.3, voting=soft; total time=   0.4s\n",
      "[CV] END rf__max_depth=7, rf__n_estimators=20, svm__C=10, svm__gamma=0.3, voting=soft; total time=   0.4s\n",
      "[CV] END rf__max_depth=7, rf__n_estimators=20, svm__C=10, svm__gamma=0.3, voting=hard; total time=   0.4s\n",
      "[CV] END rf__max_depth=7, rf__n_estimators=20, svm__C=10, svm__gamma=0.3, voting=hard; total time=   0.5s\n",
      "[CV] END rf__max_depth=7, rf__n_estimators=20, svm__C=10, svm__gamma=0.3, voting=hard; total time=   0.4s\n",
      "[CV] END rf__max_depth=7, rf__n_estimators=20, svm__C=10, svm__gamma=0.5, voting=soft; total time=   0.4s\n",
      "[CV] END rf__max_depth=7, rf__n_estimators=20, svm__C=10, svm__gamma=0.5, voting=soft; total time=   0.4s\n",
      "[CV] END rf__max_depth=7, rf__n_estimators=20, svm__C=10, svm__gamma=0.5, voting=soft; total time=   0.4s\n",
      "[CV] END rf__max_depth=7, rf__n_estimators=20, svm__C=10, svm__gamma=0.5, voting=hard; total time=   0.4s\n",
      "[CV] END rf__max_depth=7, rf__n_estimators=20, svm__C=10, svm__gamma=0.5, voting=hard; total time=   0.4s\n",
      "[CV] END rf__max_depth=7, rf__n_estimators=20, svm__C=10, svm__gamma=0.5, voting=hard; total time=   0.4s\n"
     ]
    },
    {
     "data": {
      "text/plain": [
       "GridSearchCV(cv=3,\n",
       "             estimator=VotingClassifier(estimators=[('logistic',\n",
       "                                                     LogisticRegression()),\n",
       "                                                    ('svm',\n",
       "                                                     SVC(probability=True)),\n",
       "                                                    ('rf',\n",
       "                                                     RandomForestClassifier())],\n",
       "                                        voting='soft', weights=[2, 3, 1]),\n",
       "             n_jobs=1,\n",
       "             param_grid={'rf__max_depth': [3, 5, 7],\n",
       "                         'rf__n_estimators': [5, 10, 20],\n",
       "                         'svm__C': [3, 5, 7, 10], 'svm__gamma': [0.1, 0.3, 0.5],\n",
       "                         'voting': ['soft', 'hard']},\n",
       "             scoring='accuracy', verbose=2)"
      ]
     },
     "execution_count": 22,
     "metadata": {},
     "output_type": "execute_result"
    }
   ],
   "source": [
    "model_grid.fit(x_train,y_train)"
   ]
  },
  {
   "cell_type": "code",
   "execution_count": 23,
   "metadata": {},
   "outputs": [],
   "source": [
    "model_best_estimator = model_grid.best_estimator_"
   ]
  },
  {
   "cell_type": "code",
   "execution_count": 24,
   "metadata": {},
   "outputs": [
    {
     "data": {
      "text/plain": [
       "0.3194593374343924"
      ]
     },
     "execution_count": 24,
     "metadata": {},
     "output_type": "execute_result"
    }
   ],
   "source": [
    "model_grid.best_score_"
   ]
  },
  {
   "cell_type": "code",
   "execution_count": null,
   "metadata": {},
   "outputs": [],
   "source": []
  },
  {
   "cell_type": "markdown",
   "metadata": {},
   "source": [
    "# 4. Save Model"
   ]
  },
  {
   "cell_type": "code",
   "execution_count": 25,
   "metadata": {},
   "outputs": [],
   "source": [
    "pickle.dump(model_best_estimator,open('./models/machinelearning_face_emotion.pkl',mode='wb'))"
   ]
  },
  {
   "cell_type": "code",
   "execution_count": null,
   "metadata": {},
   "outputs": [],
   "source": []
  }
 ],
 "metadata": {
  "kernelspec": {
   "display_name": "Python 3 (ipykernel)",
   "language": "python",
   "name": "python3"
  },
  "language_info": {
   "codemirror_mode": {
    "name": "ipython",
    "version": 3
   },
   "file_extension": ".py",
   "mimetype": "text/x-python",
   "name": "python",
   "nbconvert_exporter": "python",
   "pygments_lexer": "ipython3",
   "version": "3.9.17"
  }
 },
 "nbformat": 4,
 "nbformat_minor": 4
}
